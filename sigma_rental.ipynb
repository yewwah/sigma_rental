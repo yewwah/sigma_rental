{
 "cells": [
  {
   "cell_type": "markdown",
   "metadata": {
    "deletable": true,
    "editable": true
   },
   "source": [
    "    Exploring the Data"
   ]
  },
  {
   "cell_type": "code",
   "execution_count": 5,
   "metadata": {
    "collapsed": false,
    "deletable": true,
    "editable": true
   },
   "outputs": [],
   "source": [
    "import pandas as pd \n",
    "import numpy as np\n",
    "import json\n",
    "import seaborn as sb \n",
    "from sklearn.metrics import log_loss\n",
    "from sklearn import linear_model \n",
    "from sklearn.model_selection import StratifiedKFold\n",
    "from sklearn.svm import SVC\n",
    "from scipy.stats import zscore\n",
    "from sklearn.metrics import confusion_matrix, accuracy_score\n",
    "%matplotlib inline"
   ]
  },
  {
   "cell_type": "code",
   "execution_count": 87,
   "metadata": {
    "collapsed": true
   },
   "outputs": [],
   "source": [
    "from bs4 import BeautifulSoup\n",
    "import re\n",
    "import nltk\n",
    "from string import ascii_letters\n",
    "from sklearn.feature_extraction.text import TfidfTransformer"
   ]
  },
  {
   "cell_type": "markdown",
   "metadata": {},
   "source": [
    "Function to calculate log loss"
   ]
  },
  {
   "cell_type": "code",
   "execution_count": 6,
   "metadata": {
    "collapsed": true
   },
   "outputs": [],
   "source": [
    "import math\n",
    "def logloss(probs, ground_truths):\n",
    "    # vector of probailities \n",
    "    pairings = zip(probs, ground_truths)\n",
    "    total_loss = 0\n",
    "    for predictions, label in pairings:\n",
    "        if label == '1':\n",
    "            total_loss += math.log(predictions[0]) \n",
    "        elif label == '2': \n",
    "            total_loss += math.log(predictions[1])\n",
    "        else:\n",
    "            total_loss += math.log(predictions[2])\n",
    "    return float(total_loss)/float(len(ground_truths))\n",
    "            "
   ]
  },
  {
   "cell_type": "code",
   "execution_count": 7,
   "metadata": {
    "collapsed": false,
    "deletable": true,
    "editable": true
   },
   "outputs": [
    {
     "data": {
      "text/plain": [
       "49352"
      ]
     },
     "execution_count": 7,
     "metadata": {},
     "output_type": "execute_result"
    }
   ],
   "source": [
    "df = pd.read_json('data/train.json')\n",
    "df.head()\n",
    "len(df)"
   ]
  },
  {
   "cell_type": "markdown",
   "metadata": {
    "deletable": true,
    "editable": true
   },
   "source": [
    "Number of training rows = 49532 "
   ]
  },
  {
   "cell_type": "code",
   "execution_count": 4,
   "metadata": {
    "collapsed": false,
    "deletable": true,
    "editable": true
   },
   "outputs": [
    {
     "name": "stdout",
     "output_type": "stream",
     "text": [
      "Number of unique created cols =  48675\n"
     ]
    }
   ],
   "source": [
    "print 'Number of unique created cols = ' , len(df['created'].unique())"
   ]
  },
  {
   "cell_type": "code",
   "execution_count": 5,
   "metadata": {
    "collapsed": false,
    "deletable": true,
    "editable": true
   },
   "outputs": [
    {
     "name": "stdout",
     "output_type": "stream",
     "text": [
      "Index([u'bathrooms', u'bedrooms', u'building_id', u'created', u'description',\n",
      "       u'display_address', u'features', u'interest_level', u'latitude',\n",
      "       u'listing_id', u'longitude', u'manager_id', u'photos', u'price',\n",
      "       u'street_address'],\n",
      "      dtype='object')\n"
     ]
    }
   ],
   "source": [
    "print df.columns "
   ]
  },
  {
   "cell_type": "code",
   "execution_count": 6,
   "metadata": {
    "collapsed": false,
    "deletable": true,
    "editable": true
   },
   "outputs": [
    {
     "name": "stdout",
     "output_type": "stream",
     "text": [
      "max price =  4490000\n",
      "min price =  43\n"
     ]
    },
    {
     "data": {
      "text/plain": [
       "count    4.935200e+04\n",
       "mean     3.830174e+03\n",
       "std      2.206687e+04\n",
       "min      4.300000e+01\n",
       "25%      2.500000e+03\n",
       "50%      3.150000e+03\n",
       "75%      4.100000e+03\n",
       "max      4.490000e+06\n",
       "Name: price, dtype: float64"
      ]
     },
     "execution_count": 6,
     "metadata": {},
     "output_type": "execute_result"
    }
   ],
   "source": [
    "print 'max price = ' , np.max(df['price'])\n",
    "print 'min price = ' , np.min(df['price'])\n",
    "\n",
    "df['price'].describe()"
   ]
  },
  {
   "cell_type": "code",
   "execution_count": 7,
   "metadata": {
    "collapsed": false,
    "deletable": true,
    "editable": true
   },
   "outputs": [
    {
     "data": {
      "text/plain": [
       "<matplotlib.axes._subplots.AxesSubplot at 0x2606d198>"
      ]
     },
     "execution_count": 7,
     "metadata": {},
     "output_type": "execute_result"
    },
    {
     "data": {
      "image/png": "[encoded data removed]",
      "text/plain": [
       "<matplotlib.figure.Figure at 0x2b122940>"
      ]
     },
     "metadata": {},
     "output_type": "display_data"
    }
   ],
   "source": [
    "sb.boxplot(x=\"interest_level\", y=\"price\", data=df, order = ['low', 'medium', 'high'])"
   ]
  },
  {
   "cell_type": "code",
   "execution_count": 8,
   "metadata": {
    "collapsed": false,
    "deletable": true,
    "editable": true
   },
   "outputs": [],
   "source": [
    "df = df[df['price'] <= 60000]\n",
    "# Removing the outliers in the prices "
   ]
  },
  {
   "cell_type": "code",
   "execution_count": 9,
   "metadata": {
    "collapsed": false,
    "deletable": true,
    "editable": true
   },
   "outputs": [
    {
     "data": {
      "text/plain": [
       "<matplotlib.axes._subplots.AxesSubplot at 0x2b122898>"
      ]
     },
     "execution_count": 9,
     "metadata": {},
     "output_type": "execute_result"
    },
    {
     "data": {
      "image/png": "[encoded data removed]",
      "text/plain": [
       "<matplotlib.figure.Figure at 0x4ab0240>"
      ]
     },
     "metadata": {},
     "output_type": "display_data"
    }
   ],
   "source": [
    "sb.boxplot(x=\"interest_level\", y=\"price\", data=df, order = ['low', 'medium', 'high'])"
   ]
  },
  {
   "cell_type": "code",
   "execution_count": 10,
   "metadata": {
    "collapsed": false
   },
   "outputs": [
    {
     "name": "stdout",
     "output_type": "stream",
     "text": [
      "Index([u'bathrooms', u'bedrooms', u'building_id', u'created', u'description',\n",
      "       u'display_address', u'features', u'interest_level', u'latitude',\n",
      "       u'listing_id', u'longitude', u'manager_id', u'photos', u'price',\n",
      "       u'street_address'],\n",
      "      dtype='object')\n"
     ]
    },
    {
     "data": {
      "text/plain": [
       "<matplotlib.axes._subplots.AxesSubplot at 0x26fad358>"
      ]
     },
     "execution_count": 10,
     "metadata": {},
     "output_type": "execute_result"
    },
    {
     "data": {
      "image/png": "[encoded data removed]",
      "text/plain": [
       "<matplotlib.figure.Figure at 0x2450cef0>"
      ]
     },
     "metadata": {},
     "output_type": "display_data"
    }
   ],
   "source": [
    "print df.columns\n",
    "df['created'] = pd.to_datetime(df['created'])\n",
    "df_chart = df.sort_values(by= 'created')\n",
    "df_chart.set_index('created', inplace = True)\n",
    "df_chart[df_chart['interest_level'] == 'low']['price'].plot(figsize=(16, 12))\n",
    "df_chart[df_chart['interest_level'] == 'medium']['price'].plot(figsize=(16, 12))\n",
    "df_chart[df_chart['interest_level'] == 'high']['price'].plot(figsize=(16, 12))"
   ]
  },
  {
   "cell_type": "code",
   "execution_count": 11,
   "metadata": {
    "collapsed": false,
    "deletable": true,
    "editable": true
   },
   "outputs": [
    {
     "data": {
      "text/html": [
       "<div>\n",
       "<table border=\"1\" class=\"dataframe\">\n",
       "  <thead>\n",
       "    <tr style=\"text-align: right;\">\n",
       "      <th></th>\n",
       "      <th>bathrooms</th>\n",
       "      <th>bedrooms</th>\n",
       "      <th>building_id</th>\n",
       "      <th>created</th>\n",
       "      <th>description</th>\n",
       "      <th>display_address</th>\n",
       "      <th>features</th>\n",
       "      <th>interest_level</th>\n",
       "      <th>latitude</th>\n",
       "      <th>listing_id</th>\n",
       "      <th>longitude</th>\n",
       "      <th>manager_id</th>\n",
       "      <th>photos</th>\n",
       "      <th>price</th>\n",
       "      <th>street_address</th>\n",
       "    </tr>\n",
       "  </thead>\n",
       "  <tbody>\n",
       "    <tr>\n",
       "      <th>10</th>\n",
       "      <td>1.5</td>\n",
       "      <td>3</td>\n",
       "      <td>53a5b119ba8f7b61d4e010512e0dfc85</td>\n",
       "      <td>2016-06-24 07:54:24</td>\n",
       "      <td>A Brand New 3 Bedroom 1.5 bath ApartmentEnjoy ...</td>\n",
       "      <td>Metropolitan Avenue</td>\n",
       "      <td>[]</td>\n",
       "      <td>medium</td>\n",
       "      <td>40.7145</td>\n",
       "      <td>7211212</td>\n",
       "      <td>-73.9425</td>\n",
       "      <td>5ba989232d0489da1b5f2c45f6688adc</td>\n",
       "      <td>[https://photos.renthop.com/2/7211212_1ed4542e...</td>\n",
       "      <td>3000</td>\n",
       "      <td>792 Metropolitan Avenue</td>\n",
       "    </tr>\n",
       "    <tr>\n",
       "      <th>10000</th>\n",
       "      <td>1.0</td>\n",
       "      <td>2</td>\n",
       "      <td>c5c8a357cba207596b04d1afd1e4f130</td>\n",
       "      <td>2016-06-12 12:19:27</td>\n",
       "      <td></td>\n",
       "      <td>Columbus Avenue</td>\n",
       "      <td>[Doorman, Elevator, Fitness Center, Cats Allow...</td>\n",
       "      <td>low</td>\n",
       "      <td>40.7947</td>\n",
       "      <td>7150865</td>\n",
       "      <td>-73.9667</td>\n",
       "      <td>7533621a882f71e25173b27e3139d83d</td>\n",
       "      <td>[https://photos.renthop.com/2/7150865_be3306c5...</td>\n",
       "      <td>5465</td>\n",
       "      <td>808 Columbus Avenue</td>\n",
       "    </tr>\n",
       "    <tr>\n",
       "      <th>100004</th>\n",
       "      <td>1.0</td>\n",
       "      <td>1</td>\n",
       "      <td>c3ba40552e2120b0acfc3cb5730bb2aa</td>\n",
       "      <td>2016-04-17 03:26:41</td>\n",
       "      <td>Top Top West Village location, beautiful Pre-w...</td>\n",
       "      <td>W 13 Street</td>\n",
       "      <td>[Laundry In Building, Dishwasher, Hardwood Flo...</td>\n",
       "      <td>high</td>\n",
       "      <td>40.7388</td>\n",
       "      <td>6887163</td>\n",
       "      <td>-74.0018</td>\n",
       "      <td>d9039c43983f6e564b1482b273bd7b01</td>\n",
       "      <td>[https://photos.renthop.com/2/6887163_de85c427...</td>\n",
       "      <td>2850</td>\n",
       "      <td>241 W 13 Street</td>\n",
       "    </tr>\n",
       "    <tr>\n",
       "      <th>100007</th>\n",
       "      <td>1.0</td>\n",
       "      <td>1</td>\n",
       "      <td>28d9ad350afeaab8027513a3e52ac8d5</td>\n",
       "      <td>2016-04-18 02:22:02</td>\n",
       "      <td>Building Amenities - Garage - Garden - fitness...</td>\n",
       "      <td>East 49th Street</td>\n",
       "      <td>[Hardwood Floors, No Fee]</td>\n",
       "      <td>low</td>\n",
       "      <td>40.7539</td>\n",
       "      <td>6888711</td>\n",
       "      <td>-73.9677</td>\n",
       "      <td>1067e078446a7897d2da493d2f741316</td>\n",
       "      <td>[https://photos.renthop.com/2/6888711_6e660cee...</td>\n",
       "      <td>3275</td>\n",
       "      <td>333 East 49th Street</td>\n",
       "    </tr>\n",
       "    <tr>\n",
       "      <th>100013</th>\n",
       "      <td>1.0</td>\n",
       "      <td>4</td>\n",
       "      <td>0</td>\n",
       "      <td>2016-04-28 01:32:41</td>\n",
       "      <td>Beautifully renovated 3 bedroom flex 4 bedroom...</td>\n",
       "      <td>West 143rd Street</td>\n",
       "      <td>[Pre-War]</td>\n",
       "      <td>low</td>\n",
       "      <td>40.8241</td>\n",
       "      <td>6934781</td>\n",
       "      <td>-73.9493</td>\n",
       "      <td>98e13ad4b495b9613cef886d79a6291f</td>\n",
       "      <td>[https://photos.renthop.com/2/6934781_1fa4b41a...</td>\n",
       "      <td>3350</td>\n",
       "      <td>500 West 143rd Street</td>\n",
       "    </tr>\n",
       "  </tbody>\n",
       "</table>\n",
       "</div>"
      ],
      "text/plain": [
       "        bathrooms  bedrooms                       building_id  \\\n",
       "10            1.5         3  53a5b119ba8f7b61d4e010512e0dfc85   \n",
       "10000         1.0         2  c5c8a357cba207596b04d1afd1e4f130   \n",
       "100004        1.0         1  c3ba40552e2120b0acfc3cb5730bb2aa   \n",
       "100007        1.0         1  28d9ad350afeaab8027513a3e52ac8d5   \n",
       "100013        1.0         4                                 0   \n",
       "\n",
       "                   created                                        description  \\\n",
       "10     2016-06-24 07:54:24  A Brand New 3 Bedroom 1.5 bath ApartmentEnjoy ...   \n",
       "10000  2016-06-12 12:19:27                                                      \n",
       "100004 2016-04-17 03:26:41  Top Top West Village location, beautiful Pre-w...   \n",
       "100007 2016-04-18 02:22:02  Building Amenities - Garage - Garden - fitness...   \n",
       "100013 2016-04-28 01:32:41  Beautifully renovated 3 bedroom flex 4 bedroom...   \n",
       "\n",
       "            display_address  \\\n",
       "10      Metropolitan Avenue   \n",
       "10000       Columbus Avenue   \n",
       "100004          W 13 Street   \n",
       "100007     East 49th Street   \n",
       "100013    West 143rd Street   \n",
       "\n",
       "                                                 features interest_level  \\\n",
       "10                                                     []         medium   \n",
       "10000   [Doorman, Elevator, Fitness Center, Cats Allow...            low   \n",
       "100004  [Laundry In Building, Dishwasher, Hardwood Flo...           high   \n",
       "100007                          [Hardwood Floors, No Fee]            low   \n",
       "100013                                          [Pre-War]            low   \n",
       "\n",
       "        latitude  listing_id  longitude                        manager_id  \\\n",
       "10       40.7145     7211212   -73.9425  5ba989232d0489da1b5f2c45f6688adc   \n",
       "10000    40.7947     7150865   -73.9667  7533621a882f71e25173b27e3139d83d   \n",
       "100004   40.7388     6887163   -74.0018  d9039c43983f6e564b1482b273bd7b01   \n",
       "100007   40.7539     6888711   -73.9677  1067e078446a7897d2da493d2f741316   \n",
       "100013   40.8241     6934781   -73.9493  98e13ad4b495b9613cef886d79a6291f   \n",
       "\n",
       "                                                   photos  price  \\\n",
       "10      [https://photos.renthop.com/2/7211212_1ed4542e...   3000   \n",
       "10000   [https://photos.renthop.com/2/7150865_be3306c5...   5465   \n",
       "100004  [https://photos.renthop.com/2/6887163_de85c427...   2850   \n",
       "100007  [https://photos.renthop.com/2/6888711_6e660cee...   3275   \n",
       "100013  [https://photos.renthop.com/2/6934781_1fa4b41a...   3350   \n",
       "\n",
       "                 street_address  \n",
       "10      792 Metropolitan Avenue  \n",
       "10000       808 Columbus Avenue  \n",
       "100004          241 W 13 Street  \n",
       "100007     333 East 49th Street  \n",
       "100013    500 West 143rd Street  "
      ]
     },
     "execution_count": 11,
     "metadata": {},
     "output_type": "execute_result"
    }
   ],
   "source": [
    "df.head()"
   ]
  },
  {
   "cell_type": "markdown",
   "metadata": {
    "deletable": true,
    "editable": true
   },
   "source": [
    "## Drop columns : created, description, features, building id, photos, \n",
    "## Split train test into 80/20 \n",
    "## Drop rows that have prices with low interest above 60k (outliers)"
   ]
  },
  {
   "cell_type": "code",
   "execution_count": 12,
   "metadata": {
    "collapsed": false,
    "deletable": true,
    "editable": true
   },
   "outputs": [
    {
     "name": "stdout",
     "output_type": "stream",
     "text": [
      "Int64Index([    10,  10000, 100004, 100007, 100013, 100014, 100016, 100020,\n",
      "            100026, 100027,\n",
      "            ...\n",
      "             99982,  99984,  99986,  99987,  99988,   9999,  99991,  99992,\n",
      "             99993,  99994],\n",
      "           dtype='int64', length=49342)\n"
     ]
    }
   ],
   "source": [
    "print df.index\n",
    "df_new = df.drop(['photos', 'created', 'description', 'features', 'building_id', 'listing_id'], axis = 1)"
   ]
  },
  {
   "cell_type": "code",
   "execution_count": 13,
   "metadata": {
    "collapsed": false,
    "deletable": true,
    "editable": true
   },
   "outputs": [
    {
     "data": {
      "text/html": [
       "<div>\n",
       "<table border=\"1\" class=\"dataframe\">\n",
       "  <thead>\n",
       "    <tr style=\"text-align: right;\">\n",
       "      <th></th>\n",
       "      <th>bathrooms</th>\n",
       "      <th>bedrooms</th>\n",
       "      <th>display_address</th>\n",
       "      <th>interest_level</th>\n",
       "      <th>latitude</th>\n",
       "      <th>longitude</th>\n",
       "      <th>manager_id</th>\n",
       "      <th>price</th>\n",
       "      <th>street_address</th>\n",
       "    </tr>\n",
       "  </thead>\n",
       "  <tbody>\n",
       "    <tr>\n",
       "      <th>10</th>\n",
       "      <td>1.5</td>\n",
       "      <td>3</td>\n",
       "      <td>Metropolitan Avenue</td>\n",
       "      <td>medium</td>\n",
       "      <td>40.7145</td>\n",
       "      <td>-73.9425</td>\n",
       "      <td>5ba989232d0489da1b5f2c45f6688adc</td>\n",
       "      <td>3000</td>\n",
       "      <td>792 Metropolitan Avenue</td>\n",
       "    </tr>\n",
       "    <tr>\n",
       "      <th>10000</th>\n",
       "      <td>1.0</td>\n",
       "      <td>2</td>\n",
       "      <td>Columbus Avenue</td>\n",
       "      <td>low</td>\n",
       "      <td>40.7947</td>\n",
       "      <td>-73.9667</td>\n",
       "      <td>7533621a882f71e25173b27e3139d83d</td>\n",
       "      <td>5465</td>\n",
       "      <td>808 Columbus Avenue</td>\n",
       "    </tr>\n",
       "    <tr>\n",
       "      <th>100004</th>\n",
       "      <td>1.0</td>\n",
       "      <td>1</td>\n",
       "      <td>W 13 Street</td>\n",
       "      <td>high</td>\n",
       "      <td>40.7388</td>\n",
       "      <td>-74.0018</td>\n",
       "      <td>d9039c43983f6e564b1482b273bd7b01</td>\n",
       "      <td>2850</td>\n",
       "      <td>241 W 13 Street</td>\n",
       "    </tr>\n",
       "    <tr>\n",
       "      <th>100007</th>\n",
       "      <td>1.0</td>\n",
       "      <td>1</td>\n",
       "      <td>East 49th Street</td>\n",
       "      <td>low</td>\n",
       "      <td>40.7539</td>\n",
       "      <td>-73.9677</td>\n",
       "      <td>1067e078446a7897d2da493d2f741316</td>\n",
       "      <td>3275</td>\n",
       "      <td>333 East 49th Street</td>\n",
       "    </tr>\n",
       "    <tr>\n",
       "      <th>100013</th>\n",
       "      <td>1.0</td>\n",
       "      <td>4</td>\n",
       "      <td>West 143rd Street</td>\n",
       "      <td>low</td>\n",
       "      <td>40.8241</td>\n",
       "      <td>-73.9493</td>\n",
       "      <td>98e13ad4b495b9613cef886d79a6291f</td>\n",
       "      <td>3350</td>\n",
       "      <td>500 West 143rd Street</td>\n",
       "    </tr>\n",
       "  </tbody>\n",
       "</table>\n",
       "</div>"
      ],
      "text/plain": [
       "        bathrooms  bedrooms      display_address interest_level  latitude  \\\n",
       "10            1.5         3  Metropolitan Avenue         medium   40.7145   \n",
       "10000         1.0         2      Columbus Avenue            low   40.7947   \n",
       "100004        1.0         1          W 13 Street           high   40.7388   \n",
       "100007        1.0         1     East 49th Street            low   40.7539   \n",
       "100013        1.0         4    West 143rd Street            low   40.8241   \n",
       "\n",
       "        longitude                        manager_id  price  \\\n",
       "10       -73.9425  5ba989232d0489da1b5f2c45f6688adc   3000   \n",
       "10000    -73.9667  7533621a882f71e25173b27e3139d83d   5465   \n",
       "100004   -74.0018  d9039c43983f6e564b1482b273bd7b01   2850   \n",
       "100007   -73.9677  1067e078446a7897d2da493d2f741316   3275   \n",
       "100013   -73.9493  98e13ad4b495b9613cef886d79a6291f   3350   \n",
       "\n",
       "                 street_address  \n",
       "10      792 Metropolitan Avenue  \n",
       "10000       808 Columbus Avenue  \n",
       "100004          241 W 13 Street  \n",
       "100007     333 East 49th Street  \n",
       "100013    500 West 143rd Street  "
      ]
     },
     "execution_count": 13,
     "metadata": {},
     "output_type": "execute_result"
    }
   ],
   "source": [
    "df_new.head()"
   ]
  },
  {
   "cell_type": "markdown",
   "metadata": {},
   "source": [
    "## Plot of interest Levels "
   ]
  },
  {
   "cell_type": "code",
   "execution_count": 14,
   "metadata": {
    "collapsed": false,
    "deletable": true,
    "editable": true
   },
   "outputs": [
    {
     "data": {
      "text/plain": [
       "<matplotlib.axes._subplots.AxesSubplot at 0x24a00748>"
      ]
     },
     "execution_count": 14,
     "metadata": {},
     "output_type": "execute_result"
    },
    {
     "data": {
      "image/png": "[encoded data removed]",
      "text/plain": [
       "<matplotlib.figure.Figure at 0x23b8fc18>"
      ]
     },
     "metadata": {},
     "output_type": "display_data"
    }
   ],
   "source": [
    "sb.countplot(df['interest_level'])"
   ]
  },
  {
   "cell_type": "markdown",
   "metadata": {
    "deletable": true,
    "editable": true
   },
   "source": [
    "## Select columns with only int: bathroom, bedrooms, latitude, long, price \n",
    "## Split train test into 80/20 \n",
    "## Drop rows that have prices with low interest above 60k (outliers)"
   ]
  },
  {
   "cell_type": "code",
   "execution_count": 15,
   "metadata": {
    "collapsed": true,
    "deletable": true,
    "editable": true
   },
   "outputs": [],
   "source": [
    "def modify_labels(label):\n",
    "    if label == 'low':\n",
    "        return '1'\n",
    "    elif label == 'medium':\n",
    "        return '2'\n",
    "    else:\n",
    "        return '3'"
   ]
  },
  {
   "cell_type": "code",
   "execution_count": 72,
   "metadata": {
    "collapsed": false
   },
   "outputs": [],
   "source": [
    "def tokenizer(string):\n",
    "    #string = re.sub('^[\\w]', '', string)\n",
    "    tokens = nltk.word_tokenize(string)\n",
    "    cleaned = [x if not x.isdigit() else '_NUM_' for x in tokens]\n",
    "    return [x for x in cleaned if (x.isalpha() or x == '_NUM_')]\n",
    "    "
   ]
  },
  {
   "cell_type": "code",
   "execution_count": 78,
   "metadata": {
    "collapsed": false
   },
   "outputs": [
    {
     "name": "stderr",
     "output_type": "stream",
     "text": [
      "D:\\Anaconda2\\lib\\site-packages\\bs4\\__init__.py:219: UserWarning: \".\" looks like a filename, not markup. You shouldprobably open this file and pass the filehandle intoBeautiful Soup.\n",
      "  'Beautiful Soup.' % markup)\n"
     ]
    }
   ],
   "source": [
    "df['description'] = df['description'].apply(clean_html_tags)"
   ]
  },
  {
   "cell_type": "code",
   "execution_count": 92,
   "metadata": {
    "collapsed": false,
    "deletable": true,
    "editable": true
   },
   "outputs": [
    {
     "ename": "NameError",
     "evalue": "name 'modify_labels' is not defined",
     "output_type": "error",
     "traceback": [
      "\u001b[0;31m---------------------------------------------------------------------------\u001b[0m",
      "\u001b[0;31mNameError\u001b[0m                                 Traceback (most recent call last)",
      "\u001b[0;32m<ipython-input-92-eb7cacb469ed>\u001b[0m in \u001b[0;36m<module>\u001b[0;34m()\u001b[0m\n\u001b[1;32m      2\u001b[0m \u001b[0mdf_new\u001b[0m \u001b[1;33m=\u001b[0m \u001b[0mdf\u001b[0m\u001b[1;33m[\u001b[0m\u001b[1;33m[\u001b[0m\u001b[1;34m'bathrooms'\u001b[0m\u001b[1;33m,\u001b[0m \u001b[1;34m'bedrooms'\u001b[0m\u001b[1;33m,\u001b[0m \u001b[1;34m'interest_level'\u001b[0m\u001b[1;33m,\u001b[0m \u001b[1;34m'latitude'\u001b[0m\u001b[1;33m,\u001b[0m \u001b[1;34m'longitude'\u001b[0m\u001b[1;33m,\u001b[0m \u001b[1;34m'price'\u001b[0m\u001b[1;33m,\u001b[0m \u001b[1;34m'description'\u001b[0m\u001b[1;33m]\u001b[0m\u001b[1;33m]\u001b[0m\u001b[1;33m\u001b[0m\u001b[0m\n\u001b[1;32m      3\u001b[0m \u001b[1;31m#df_new = df[['bathrooms', 'bedrooms', 'interest_level']]\u001b[0m\u001b[1;33m\u001b[0m\u001b[1;33m\u001b[0m\u001b[0m\n\u001b[0;32m----> 4\u001b[0;31m \u001b[0mdf_new\u001b[0m\u001b[1;33m[\u001b[0m\u001b[1;34m'interest_level'\u001b[0m\u001b[1;33m]\u001b[0m \u001b[1;33m=\u001b[0m \u001b[0mdf_new\u001b[0m\u001b[1;33m[\u001b[0m\u001b[1;34m'interest_level'\u001b[0m\u001b[1;33m]\u001b[0m\u001b[1;33m.\u001b[0m\u001b[0mapply\u001b[0m\u001b[1;33m(\u001b[0m\u001b[0mmodify_labels\u001b[0m\u001b[1;33m)\u001b[0m\u001b[1;33m\u001b[0m\u001b[0m\n\u001b[0m\u001b[1;32m      5\u001b[0m \u001b[0mdf_new\u001b[0m\u001b[1;33m.\u001b[0m\u001b[0mhead\u001b[0m\u001b[1;33m(\u001b[0m\u001b[1;33m)\u001b[0m\u001b[1;33m\u001b[0m\u001b[0m\n\u001b[1;32m      6\u001b[0m \u001b[0mdf_new\u001b[0m\u001b[1;33m[\u001b[0m\u001b[1;34m'interest_level'\u001b[0m\u001b[1;33m]\u001b[0m\u001b[1;33m.\u001b[0m\u001b[0munique\u001b[0m\u001b[1;33m(\u001b[0m\u001b[1;33m)\u001b[0m\u001b[1;33m\u001b[0m\u001b[0m\n",
      "\u001b[0;31mNameError\u001b[0m: name 'modify_labels' is not defined"
     ]
    }
   ],
   "source": [
    "#Only int \n",
    "df_new = df[['bathrooms', 'bedrooms', 'interest_level', 'latitude', 'longitude', 'price', 'description']]\n",
    "#df_new = df[['bathrooms', 'bedrooms', 'interest_level']]\n",
    "df_new['interest_level'] = df_new['interest_level'].apply(modify_labels)\n",
    "df_new.head()\n",
    "df_new['interest_level'].unique()"
   ]
  },
  {
   "cell_type": "code",
   "execution_count": 80,
   "metadata": {
    "collapsed": false
   },
   "outputs": [],
   "source": [
    "count_vect = CountVectorizer(tokenizer = tokenizer, stop_words = 'english')\n",
    "document_mtrx = count_vect.fit_transform(df['description'])"
   ]
  },
  {
   "cell_type": "code",
   "execution_count": 17,
   "metadata": {
    "collapsed": false,
    "deletable": true,
    "editable": true
   },
   "outputs": [],
   "source": [
    "df_new_target = df_new['interest_level']\n",
    "df_new = df_new.drop(['interest_level'], axis = 1)\n",
    "df_new.head()\n",
    "numeric_cols = df_new.select_dtypes(include=[np.number]).columns\n",
    "df_new[numeric_cols] = df_new[numeric_cols].apply(zscore)"
   ]
  },
  {
   "cell_type": "code",
   "execution_count": 18,
   "metadata": {
    "collapsed": false,
    "deletable": true,
    "editable": true
   },
   "outputs": [],
   "source": [
    "skf = StratifiedKFold(n_splits=5)"
   ]
  },
  {
   "cell_type": "code",
   "execution_count": 29,
   "metadata": {
    "collapsed": false,
    "deletable": true,
    "editable": true
   },
   "outputs": [
    {
     "name": "stdout",
     "output_type": "stream",
     "text": [
      "Total loss  -0.707365187578\n",
      "Log loss from sklearn 0.707365187578\n"
     ]
    }
   ],
   "source": [
    "for train_index, test_index in skf.split(df_new, df_new_target):\n",
    "    train, train_labels = df_new.iloc[train_index], df_new_target.iloc[train_index]\n",
    "    test, test_labels = df_new.iloc[test_index], df_new_target.iloc[test_index]\n",
    "    #regr = linear_model.LogisticRegression(class_weight = 'balanced')\n",
    "    regr = SVC(kernel = 'rbf', probability = True, C = 1, class_weight = 'balanced')\n",
    "    regr.fit(train, train_labels)\n",
    "    pred = (regr.predict_proba(test))\n",
    "    loss = logloss(pred, test_labels)\n",
    "    sklearn_loss = log_loss(test_labels, pred)\n",
    "    print 'Total loss ', loss\n",
    "    print 'Log loss from sklearn', sklearn_loss\n",
    "    break\n",
    "    #print confusion_matrix(pred, test_labels)\n",
    "    #print accuracy_score(pred, test_labels)\n",
    "    "
   ]
  },
  {
   "cell_type": "code",
   "execution_count": 31,
   "metadata": {
    "collapsed": false
   },
   "outputs": [],
   "source": [
    "test_df = pd.read_json('data/test.json')\n",
    "listings = test_df['listing_id']\n",
    "test_df = test_df[['bathrooms', 'bedrooms',  'latitude', 'longitude','price', 'description']]\n",
    "test_df.describe()\n",
    "numeric_cols = test_df.select_dtypes(include=[np.number]).columns\n",
    "test_df[numeric_cols] = test_df[numeric_cols].apply(zscore)"
   ]
  },
  {
   "cell_type": "code",
   "execution_count": 32,
   "metadata": {
    "collapsed": false
   },
   "outputs": [
    {
     "data": {
      "text/plain": [
       "array([[ 0.8872982 ,  0.10221313,  0.01048867],\n",
       "       [ 0.67128601,  0.26392062,  0.06479338],\n",
       "       [ 0.91031804,  0.08233408,  0.00734789],\n",
       "       ..., \n",
       "       [ 0.9317323 ,  0.06311321,  0.00515449],\n",
       "       [ 0.86672177,  0.12166685,  0.01161138],\n",
       "       [ 0.7107843 ,  0.24012397,  0.04909172]])"
      ]
     },
     "execution_count": 32,
     "metadata": {},
     "output_type": "execute_result"
    }
   ],
   "source": [
    "pred_test = regr.predict_proba(test_df)\n",
    "pred_test\n"
   ]
  },
  {
   "cell_type": "code",
   "execution_count": 33,
   "metadata": {
    "collapsed": false
   },
   "outputs": [],
   "source": [
    "pred_test = pred_test.tolist()\n"
   ]
  },
  {
   "cell_type": "code",
   "execution_count": 34,
   "metadata": {
    "collapsed": false
   },
   "outputs": [],
   "source": [
    "listings = listings.tolist()"
   ]
  },
  {
   "cell_type": "code",
   "execution_count": 35,
   "metadata": {
    "collapsed": false
   },
   "outputs": [],
   "source": [
    "with open('results.csv', 'w') as f:\n",
    "    f.write('listing_id,high,medium,low\\n')\n",
    "    for idx in range(len(pred_test)):\n",
    "        f.write('{},{},{},{}\\n'.format(listings[idx], pred_test[idx][0], pred_test[idx][1], pred_test[idx][2]))"
   ]
  },
  {
   "cell_type": "markdown",
   "metadata": {
    "collapsed": true
   },
   "source": [
    "Convert to bag of words"
   ]
  },
  {
   "cell_type": "code",
   "execution_count": 61,
   "metadata": {
    "collapsed": true
   },
   "outputs": [],
   "source": [
    "from sklearn.feature_extraction.text import CountVectorizer"
   ]
  },
  {
   "cell_type": "code",
   "execution_count": 27,
   "metadata": {
    "collapsed": false
   },
   "outputs": [],
   "source": [
    "count_vect = CountVectorizer()\n",
    "document_mtrx = count_vect.fit_transform(df['description'])\n"
   ]
  },
  {
   "cell_type": "code",
   "execution_count": 28,
   "metadata": {
    "collapsed": false
   },
   "outputs": [
    {
     "data": {
      "text/plain": [
       "{u'viewscity': 36216,\n",
       " u'sizeexposed': 31584,\n",
       " u'rentalcontact': 29104,\n",
       " u'villagebldg': 36323,\n",
       " u'woods': 37356,\n",
       " u'bedroomspet': 9396,\n",
       " u'roomtennis': 30003,\n",
       " u'hanging': 19594,\n",
       " u'woody': 37362,\n",
       " u'balconny': 8542,\n",
       " u'sation': 30346,\n",
       " u'conveterible': 13153,\n",
       " u'5983': 4058,\n",
       " u'acurately': 6008,\n",
       " u'5986': 4060,\n",
       " u'5985': 4059,\n",
       " u'cherryshaker': 11861,\n",
       " u'laundrydownstairs': 22411,\n",
       " u'cdishwashers': 11353,\n",
       " u'cleaneryes': 12133,\n",
       " u'taj': 33775,\n",
       " u'smokingstorage': 31735,\n",
       " u'superand': 33417,\n",
       " u'blg1': 9773,\n",
       " u'four': 18167,\n",
       " u'wooded': 37346,\n",
       " u'receiving': 28693,\n",
       " u'broiler': 10377,\n",
       " u'wooden': 37347,\n",
       " u'wednesday': 36774,\n",
       " u'allrenovated': 6457,\n",
       " u'177641': 1300,\n",
       " u'zzzzzz': 37816,\n",
       " u'bbqs': 9109,\n",
       " u'ccnyif': 11345,\n",
       " u'191469': 1758,\n",
       " u'0050': 29,\n",
       " u'179th': 1419,\n",
       " u'roomrooftop': 29932,\n",
       " u'270': 2530,\n",
       " u'bannister': 8623,\n",
       " u'272': 2537,\n",
       " u'273': 2545,\n",
       " u'275': 2559,\n",
       " u'276': 2565,\n",
       " u'277': 2570,\n",
       " u'278': 2572,\n",
       " u'279': 2575,\n",
       " u'scraped': 30542,\n",
       " u'snuggled': 31762,\n",
       " u'wholefoodsstarbucks': 36963,\n",
       " u'errors': 16270,\n",
       " u'niceeat': 25569,\n",
       " u'cooking': 13178,\n",
       " u'designing': 14412,\n",
       " u'stairsfor': 32467,\n",
       " u'roomcommon': 29781,\n",
       " u'distancecontact': 14765,\n",
       " u'renovationsin': 29077,\n",
       " u'9256': 5443,\n",
       " u'9254': 5442,\n",
       " u'27n': 2580,\n",
       " u'china': 11908,\n",
       " u'views___grand': 36195,\n",
       " u'176065': 1269,\n",
       " u'affiliated': 6152,\n",
       " u'chino': 11913,\n",
       " u'blockeasy': 9805,\n",
       " u'locationcheck': 23306,\n",
       " u'batery': 8797,\n",
       " u'reggae': 28853,\n",
       " u'kids': 21704,\n",
       " u'uplifting': 35733,\n",
       " u'thefreedom': 34214,\n",
       " u'135ththere': 817,\n",
       " u'courtbicycle': 13457,\n",
       " u'apartmentswhite': 7201,\n",
       " u'golden': 19025,\n",
       " u'stafffull': 32437,\n",
       " u'projection': 28131,\n",
       " u'aplliences': 7227,\n",
       " u'armstead': 7765,\n",
       " u'includedalways': 20639,\n",
       " u'stern': 32667,\n",
       " u'marbel': 24054,\n",
       " u'brizo': 10328,\n",
       " u'cannibal': 11112,\n",
       " u'allowedcentral': 6405,\n",
       " u'dnt': 14835,\n",
       " u'music': 25222,\n",
       " u'therefore': 34264,\n",
       " u'parking24': 26780,\n",
       " u'dny': 14836,\n",
       " u'193825': 1789,\n",
       " u'diswasher': 14797,\n",
       " u'thassos': 34141,\n",
       " u'contessa6': 13047,\n",
       " u'059642': 211,\n",
       " u'takla': 33784,\n",
       " u'astound': 7926,\n",
       " u'155630': 1063,\n",
       " u'circumstances': 12017,\n",
       " u'locked': 23354,\n",
       " u'dryerclose': 15276,\n",
       " u'locker': 23355,\n",
       " u'elevatornewly': 15810,\n",
       " u'busyness': 10789,\n",
       " u'occupyingan': 25960,\n",
       " u'studentspets': 33037,\n",
       " u'managementpackage': 23937,\n",
       " u'wang': 36610,\n",
       " u'wand': 36606,\n",
       " u'hyatt': 20387,\n",
       " u'ringvolleyball': 29509,\n",
       " u'wank': 36611,\n",
       " u'toschedule': 34779,\n",
       " u'want': 36614,\n",
       " u'arelarge': 7723,\n",
       " u'absolute': 5790,\n",
       " u'withtransportation': 37291,\n",
       " u'locationunion': 23347,\n",
       " u'villagestunning': 36338,\n",
       " u'1trains': 1969,\n",
       " u'travel': 35084,\n",
       " u'copious': 13228,\n",
       " u'servicein': 30846,\n",
       " u'1175': 605,\n",
       " u'1173': 604,\n",
       " u'dryerdishwashergreat': 15285,\n",
       " u'space24': 31950,\n",
       " u'wrong': 37443,\n",
       " u'merdinger': 24471,\n",
       " u'habitats387': 19487,\n",
       " u'domed': 14894,\n",
       " u'18th': 1726,\n",
       " u'marqueta': 24142,\n",
       " u'backyardshared': 8492,\n",
       " u'sprawling': 32321,\n",
       " u'welcomed': 36806,\n",
       " u'lightsplendid': 22933,\n",
       " u'dolemiti': 14881,\n",
       " u'vezzo': 36085,\n",
       " u'partnered': 26909,\n",
       " u'620': 4192,\n",
       " u'butcher': 10793,\n",
       " u'goodmancharlton3': 19050,\n",
       " u'welcomes': 36814,\n",
       " u'fir': 17410,\n",
       " u'fit': 17476,\n",
       " u'closetsapartment': 12266,\n",
       " u'subwaysspacious': 33239,\n",
       " u'bringing': 10317,\n",
       " u'fix': 17505,\n",
       " u'bulding': 10701,\n",
       " u'fig': 17280,\n",
       " u'menachem': 24450,\n",
       " u'looks': 23427,\n",
       " u'fil': 17289,\n",
       " u'unitrooms': 35599,\n",
       " u'zucker': 37804,\n",
       " u'effects': 15695,\n",
       " u'todaythank': 34656,\n",
       " u'sixteen': 31567,\n",
       " u'0601gorgeous': 220,\n",
       " u'casethis': 11277,\n",
       " u'simulators7th': 31485,\n",
       " u'barton': 8738,\n",
       " u'kitchensrenovated': 21935,\n",
       " u'ceilingsplenty': 11459,\n",
       " u'ingrid': 20852,\n",
       " u'williamsburgrecently': 37052,\n",
       " u'schoolssaint': 30504,\n",
       " u'thecentral': 34197,\n",
       " u'telescope': 33936,\n",
       " u'accessour': 5890,\n",
       " u'393': 3213,\n",
       " u'392': 3212,\n",
       " u'391': 3210,\n",
       " u'390': 3206,\n",
       " u'397': 3222,\n",
       " u'396': 3220,\n",
       " u'395': 3216,\n",
       " u'394': 3214,\n",
       " u'townhouseliving': 34848,\n",
       " u'399': 3228,\n",
       " u'398': 3225,\n",
       " u'touts': 34825,\n",
       " u'seemega': 30696,\n",
       " u'unitaa': 35525,\n",
       " u'enviroment': 16190,\n",
       " u'mason': 24188,\n",
       " u'saldkfj': 30240,\n",
       " u'encourage': 16021,\n",
       " u'unitas': 35530,\n",
       " u'fullbaths': 18497,\n",
       " u'batrhroomequipped': 9077,\n",
       " u'eevator': 15681,\n",
       " u'conditioningdishwasherhardwood': 12858,\n",
       " u'3744': 3148,\n",
       " u'3745': 3150,\n",
       " u'prkwy': 28078,\n",
       " u'dryerkitch': 15304,\n",
       " u'bathroomsgreat': 8958,\n",
       " u'awayget': 8349,\n",
       " u'separatemodern': 30769,\n",
       " u'sheet': 31105,\n",
       " u'floorfitness': 17667,\n",
       " u'bathssituated': 9050,\n",
       " u'availablewood': 8195,\n",
       " u'rutenberg': 30162,\n",
       " u'milesjzat': 24677,\n",
       " u'4456or': 3499,\n",
       " u'pfaff': 27232,\n",
       " u'babond': 8445,\n",
       " u'rneted': 29598,\n",
       " u'ofultra': 26062,\n",
       " u'chevron': 11876,\n",
       " u'andamsterdam': 6811,\n",
       " u'specially': 32211,\n",
       " u'renovated': 28985,\n",
       " u'service': 30807,\n",
       " u'tranquilityall': 35003,\n",
       " u'700guarantor': 4687,\n",
       " u'furniturestainless': 18568,\n",
       " u'needed': 25403,\n",
       " u'renovates': 29047,\n",
       " u'master': 24213,\n",
       " u'rewards': 29440,\n",
       " u'carousel': 11217,\n",
       " u'spactacular': 32145,\n",
       " u'organically': 26344,\n",
       " u'doreen': 15088,\n",
       " u'worriesi': 37410,\n",
       " u'positively': 27810,\n",
       " u'ahmed': 6243,\n",
       " u'271': 2535,\n",
       " u'nowprice': 25810,\n",
       " u'appointmentleonidas': 7483,\n",
       " u'lightingwhite': 22899,\n",
       " u'roomfitness': 29832,\n",
       " u'feeling': 17110,\n",
       " u'151stcall': 1029,\n",
       " u'gorman': 19078,\n",
       " u'3879': 3195,\n",
       " u'longs': 23417,\n",
       " u'redesigned': 28763,\n",
       " u'6814': 4579,\n",
       " u'9756': 5584,\n",
       " u'hillstudio': 20012,\n",
       " u'spacieux': 32113,\n",
       " u'lightingbathroomdual': 22864,\n",
       " u'longa': 23411,\n",
       " u'zoned': 37793,\n",
       " u'dozen': 15144,\n",
       " u'affairs': 6148,\n",
       " u'mostly': 25082,\n",
       " u'dryeropen': 15318,\n",
       " u'wileythis': 37031,\n",
       " u'roomboth': 29764,\n",
       " u'toothed': 34732,\n",
       " u'floorsdoormanelevatorbike': 17831,\n",
       " u'baththis': 9058,\n",
       " u'45th': 3559,\n",
       " u'witnes': 37299,\n",
       " u'limitless': 22976,\n",
       " u'cinematic': 11995,\n",
       " u'resonates': 29290,\n",
       " u'veniam': 36010,\n",
       " u'simplify': 31465,\n",
       " u'mouth': 25112,\n",
       " u'amenitiesincluding': 6669,\n",
       " u'securityapartment': 30652,\n",
       " u'blv': 9875,\n",
       " u'throughoutgreat': 34432,\n",
       " u'singer': 31500,\n",
       " u'tect': 33912,\n",
       " u'maja': 23875,\n",
       " u'detailsmodern': 14463,\n",
       " u'superswimming': 33542,\n",
       " u'adipiscing': 6056,\n",
       " u'tech': 33900,\n",
       " u'paneling': 26684,\n",
       " u'teck': 33911,\n",
       " u'deckterrace': 14171,\n",
       " u'travern': 35090,\n",
       " u'scream': 30547,\n",
       " u'fonda': 18040,\n",
       " u'saying': 30397,\n",
       " u'223031': 2221,\n",
       " u'freebrand': 18241,\n",
       " u'on62nd': 26156,\n",
       " u'teresa': 33992,\n",
       " u'halpern': 19539,\n",
       " u'183rd': 1672,\n",
       " u'loungefitness': 23493,\n",
       " u'padded': 26611,\n",
       " u'apace': 7084,\n",
       " u'645566': 4366,\n",
       " u'peck': 27034,\n",
       " u'groundsplaygroundbarbecue': 19332,\n",
       " u'cafebbq': 10991,\n",
       " u'buvette': 10807,\n",
       " u'rico': 29485,\n",
       " u'clicker': 12169,\n",
       " u'bliss': 9790,\n",
       " u'rick': 29482,\n",
       " u'rich': 29468,\n",
       " u'rice': 29466,\n",
       " u'lubi': 23582,\n",
       " u'gymfurnished': 19449,\n",
       " u'closetsvery': 12350,\n",
       " u'2min': 2761,\n",
       " u'ceil': 11368,\n",
       " u'altogether': 6514,\n",
       " u'storagepackage': 32805,\n",
       " u'closetlow': 12240,\n",
       " u'nicely': 25570,\n",
       " u'coffeespots': 12475,\n",
       " u'boarder': 9902,\n",
       " u'7561': 4854,\n",
       " u'locationall': 23300,\n",
       " u'180146': 1439,\n",
       " u'erike': 16260,\n",
       " u'erika': 16259,\n",
       " u'centeroutdoor': 11599,\n",
       " u'spacioussorry': 32136,\n",
       " u'48th': 3653,\n",
       " u'lots': 23459,\n",
       " u'irt': 21152,\n",
       " u'droves': 15246,\n",
       " u'6pmcall': 4669,\n",
       " u'20sq': 2087,\n",
       " u'irc': 21133,\n",
       " u'sunbeams': 33306,\n",
       " u'leasingdetails': 22588,\n",
       " u'extend': 16607,\n",
       " u'nature': 25337,\n",
       " u'amenitiesvalet': 6702,\n",
       " u'2111072': 2101,\n",
       " u'extent': 16617,\n",
       " u'accessed': 5866,\n",
       " u'2ave': 2692,\n",
       " u'theeast': 34205,\n",
       " u'airflow': 6265,\n",
       " u'lot2': 23456,\n",
       " u'spacecourtyardroof': 31981,\n",
       " u'heating': 19802,\n",
       " u'premisessurrounded': 27913,\n",
       " u'cleanershousekeepinglaundry': 12130,\n",
       " u'himalayan': 20017,\n",
       " u'1month': 1935,\n",
       " u'southeastern': 31927,\n",
       " u'windowscustom': 37126,\n",
       " u'seasoncall': 30611,\n",
       " u'villagespacious': 36336,\n",
       " u'charney': 11802,\n",
       " u'spaceparkingprivate': 32056,\n",
       " u'brindle': 10313,\n",
       " u'blonde': 9842,\n",
       " u'solaire': 31824,\n",
       " u'sunlightapartment': 33348,\n",
       " u'gramercythis': 19136,\n",
       " u'lobbylibrarychef': 23227,\n",
       " u'182439': 1632,\n",
       " u'angel': 6983,\n",
       " u'fre': 18224,\n",
       " u'union': 35501,\n",
       " u'fri': 18307,\n",
       " u'182431': 1630,\n",
       " u'fro': 18428,\n",
       " u'frm': 18427,\n",
       " u'storageplease': 32810,\n",
       " u'much': 25158,\n",
       " u'sommelier': 31857,\n",
       " u'1678': 1190,\n",
       " u'fry': 18462,\n",
       " u'finkel': 17392,\n",
       " u'tallest': 33796,\n",
       " u'drivethese': 15226,\n",
       " u'premier': 27902,\n",
       " u'managerroof': 23953,\n",
       " u'spic': 32252,\n",
       " u'dave': 13980,\n",
       " u'studionew': 33076,\n",
       " u'yorkmanned': 37633,\n",
       " u'spin': 32264,\n",
       " u'floor___king': 17639,\n",
       " u'backsplashes': 8469,\n",
       " u'zalman': 37732,\n",
       " u'professionally': 28112,\n",
       " u'convertable': 13137,\n",
       " u'flatrion': 17580,\n",
       " u'canoeing': 11116,\n",
       " u'floorsbathroom': 17796,\n",
       " u'kohn': 22029,\n",
       " u'kohl': 22026,\n",
       " u'conditioned': 12835,\n",
       " u'availableprivate': 8163,\n",
       " u'bwaytrains': 10818,\n",
       " u'conditioner': 12837,\n",
       " u'nofee': 25683,\n",
       " u'memorial': 24445,\n",
       " u'panoramicview': 26696,\n",
       " u'2265sf86th': 2285,\n",
       " u'split': 32286,\n",
       " u'unitpolished': 35593,\n",
       " u'gymconciergeon': 19442,\n",
       " u'effortlessly': 15703,\n",
       " u'karin': 21594,\n",
       " u'issac': 21215,\n",
       " u'qualifications': 28370,\n",
       " u'doormanvalet': 15046,\n",
       " u'hamiktin': 19547,\n",
       " u'boiler': 9949,\n",
       " u'supper': 33557,\n",
       " u'featherweight': 16932,\n",
       " u'tomkins': 34698,\n",
       " u'levelor': 22700,\n",
       " u'dishwasherstunning': 14725,\n",
       " u'academic': 5812,\n",
       " u'corporate': 13278,\n",
       " u'massaging': 24197,\n",
       " u'beds____high': 9433,\n",
       " u'kw150421': 22141,\n",
       " u'sundrenched': 33334,\n",
       " u'appropriately': 7513,\n",
       " u'andenjoy': 6842,\n",
       " u'areaparking': 7669,\n",
       " u'stns': 32714,\n",
       " u'stno': 32713,\n",
       " u'spacelaundry': 32026,\n",
       " u'silkstone': 31424,\n",
       " u'roomcafe': 29769,\n",
       " u'hal': 19506,\n",
       " u'han': 19561,\n",
       " u'hao': 19606,\n",
       " u'hastons': 19712,\n",
       " u'hac': 19493,\n",
       " u'had': 19494,\n",
       " u'nuances': 25831,\n",
       " u'hay': 19750,\n",
       " u'lawnbusiness': 22467,\n",
       " u'00pmtuesday': 47,\n",
       " u'beloved': 9516,\n",
       " u'has': 19693,\n",
       " u'hat': 19716,\n",
       " u'streetlive': 32942,\n",
       " u'avecontact': 8227,\n",
       " u'centerclub': 11548,\n",
       " u'stylingceramic': 33152,\n",
       " u'5bath': 4075,\n",
       " u'ksenia': 22063,\n",
       " u'indicative': 20773,\n",
       " u'074173': 268,\n",
       " u'clustered': 12425,\n",
       " u'shadow': 31020,\n",
       " u'fireplacewindowed': 17449,\n",
       " u'loungeroof': 23513,\n",
       " u'masonic': 24189,\n",
       " u'gadi': 18603,\n",
       " u'storageharry': 32790,\n",
       " u'alice': 6350,\n",
       " u'festivities': 17231,\n",
       " u'lacroix': 22221,\n",
       " u'utilites': 35811,\n",
       " u'photosit': 27277,\n",
       " u'attorney': 8018,\n",
       " u'7train': 5023,\n",
       " u'crowd': 13718,\n",
       " u'czech': 13871,\n",
       " u'133th': 806,\n",
       " u'crown': 13722,\n",
       " u'bedroom__both': 9275,\n",
       " u'dishwashernew': 14713,\n",
       " u'appliances_dishwasher_microwave': 7284,\n",
       " u'billboard': 9667,\n",
       " u'photoscall': 27274,\n",
       " u'52nd': 3852,\n",
       " u'bottom': 10063,\n",
       " u'duplexwith': 15420,\n",
       " u'naural': 25340,\n",
       " u'roomlots': 29879,\n",
       " u'treadmill': 35099,\n",
       " u'floorscats': 17806,\n",
       " u'ichie': 20417,\n",
       " u'ceilingsloft': 11436,\n",
       " u'bedroomlots': 9333,\n",
       " u'croman5618please': 13679,\n",
       " u'withconcierge': 37250,\n",
       " u'8838licensed': 5294,\n",
       " u'benches': 9530,\n",
       " u'ades': 6052,\n",
       " u'dryercherry': 15275,\n",
       " u'apartmentking': 7147,\n",
       " u'benched': 9529,\n",
       " u'bedroomsamazing': 9355,\n",
       " u'adel': 6044,\n",
       " u'largestudio': 22336,\n",
       " u'sinksgrohe': 31514,\n",
       " u'andthree': 6947,\n",
       " u'spaseasonal': 32174,\n",
       " u'marshall': 24152,\n",
       " u'throughoutequal': 34427,\n",
       " u'highline': 19973,\n",
       " u'lieber': 22784,\n",
       " u'beings': 9488,\n",
       " u'manhattanville': 24000,\n",
       " u'shoots': 31179,\n",
       " u'gardensthe': 18750,\n",
       " u'mbr': 24304,\n",
       " u'tami': 33801,\n",
       " u'tamo': 33802,\n",
       " u'getattribute': 18869,\n",
       " u'poolit': 27722,\n",
       " u'tame': 33800,\n",
       " u'wholefood': 36960,\n",
       " u'16000': 1124,\n",
       " u'16001': 1125,\n",
       " u'southno': 31935,\n",
       " u'greatness': 19208,\n",
       " u'sundeckprivate': 33322,\n",
       " u'ownings': 26570,\n",
       " u'116353': 596,\n",
       " u'botticino': 10060,\n",
       " u'verde': 36036,\n",
       " u'8984': 5333,\n",
       " u'bathroomtotal': 9010,\n",
       " u'verdi': 36037,\n",
       " u'paneled': 26682,\n",
       " u'croman5029': 13662,\n",
       " u'aza': 8384,\n",
       " u'63st': 4284,\n",
       " u'villge': 36353,\n",
       " u'nicest': 25574,\n",
       " u'7ft': 5001,\n",
       " u'duet': 15376,\n",
       " u'dues': 15375,\n",
       " u'passenger': 26923,\n",
       " u'64004': 4289,\n",
       " u'dishwasheractual': 14669,\n",
       " u'bourdain': 10088,\n",
       " u'doors___massive': 15063,\n",
       " u'candle': 11105,\n",
       " u'studioopen': 33077,\n",
       " u'paperwork': 26712,\n",
       " u'shoppingthis': 31211,\n",
       " u'guiseppina': 19401,\n",
       " u'laundrybeautiful': 22403,\n",
       " u'collegemarymount': 12518,\n",
       " u'obao': 25920,\n",
       " u'role': 29671,\n",
       " u'rolf': 29672,\n",
       " u'crowne': 13723,\n",
       " u'sunset': 33397,\n",
       " u'roll': 29673,\n",
       " u'cyof': 13869,\n",
       " u'162571': 1149,\n",
       " u'foyers': 18184,\n",
       " u'transported': 35072,\n",
       " u'7947': 4972,\n",
       " u'yellowstone': 37584,\n",
       " u'professional': 28108,\n",
       " u'devoe': 14502,\n",
       " u'eacute': 15517,\n",
       " u'lorem': 23440,\n",
       " u'loren': 23441,\n",
       " u'hypoallergenic': 20394,\n",
       " u'windowsills': 37151,\n",
       " u'aquiet': 7579,\n",
       " u'apta': 7552,\n",
       " u'childs': 11895,\n",
       " u'238sf': 2348,\n",
       " u'chain': 11720,\n",
       " u'whoever': 36958,\n",
       " u'terracesbuilding': 34065,\n",
       " u'apti': 7560,\n",
       " u'ost': 26397,\n",
       " u'stationslots': 32574,\n",
       " u'apts': 7564,\n",
       " u'buildingmercedes': 10621,\n",
       " u'oso': 26396,\n",
       " u'chair': 11722,\n",
       " u'chait': 11729,\n",
       " u'spasious': 32176,\n",
       " u'ballet': 8582,\n",
       " u'650350': 4435,\n",
       " u'8860': 5301,\n",
       " u'8861': 5303,\n",
       " u'freelance': 18250,\n",
       " u'8869': 5305,\n",
       " u'aponte': 7232,\n",
       " u'connecting': 12932,\n",
       " u'macho': 23776,\n",
       " u'stationtop': 32579,\n",
       " u'691': 4608,\n",
       " u'octagonal': 25967,\n",
       " u'minuts': 24774,\n",
       " u'avenuehere': 8263,\n",
       " u'aroundunit': 7772,\n",
       " u'choice': 11931,\n",
       " u'wubnech326': 37455,\n",
       " u'gloomy': 18988,\n",
       " u'stays': 32592,\n",
       " u'laundrymat': 22421,\n",
       " u'exact': 16419,\n",
       " u'minute': 24765,\n",
       " u'hardword': 19653,\n",
       " u'cooks': 13184,\n",
       " u'powellactual': 27852,\n",
       " u'roomconciergeelevatorfull': 29794,\n",
       " u'war_luxury_health': 36620,\n",
       " u'universitymetropolitan': 35646,\n",
       " u'coumbus': 13331,\n",
       " u'home_pool_gym_roof': 20092,\n",
       " u'cheren': 11854,\n",
       " u'trails': 34883,\n",
       " u'servicesamazing': 30880,\n",
       " u'dsarealty': 15350,\n",
       " u'centralmarket': 11665,\n",
       " u'shirts': 31164,\n",
       " u'adorns': 6090,\n",
       " u'bakeshop': 8526,\n",
       " u'windowwindowed': 37199,\n",
       " u'celebrated': 11495,\n",
       " u'179462': 1387,\n",
       " u'cassa': 11285,\n",
       " u'forsman': 18129,\n",
       " u'695': 4618,\n",
       " u'tribecathis': 35154,\n",
       " u'celebrates': 11496,\n",
       " u'bathroomskohler': 8967,\n",
       " u'areacabanascovered': 7630,\n",
       " u'178735': 1339,\n",
       " u'304': 2813,\n",
       " u'5403i': 3883,\n",
       " u'vanderbilt': 35915,\n",
       " u'address': 6036,\n",
       " u'blockto': 9832,\n",
       " u'dusty': 15436,\n",
       " u'floorsdishwasherlarge': 17826,\n",
       " u'textfaye': 34117,\n",
       " u'fariway': 16857,\n",
       " u'influx': 20820,\n",
       " u'brms': 10332,\n",
       " u'31th': 2898,\n",
       " u'kitchendishwashernewly': 21838,\n",
       " u'darnell': 13955,\n",
       " u'undergone': 35436,\n",
       " u'basementhardwood': 8756,\n",
       " u'working': 37383,\n",
       " u'balconyactual': 8551,\n",
       " u'equippedwhere': 16242,\n",
       " u'youretheonethatiwantemail': 37661,\n",
       " u'opposed': 26276,\n",
       " u'lexinginton': 22716,\n",
       " u'pavilions': 26993,\n",
       " u'1brelevator': 1903,\n",
       " u'164th': 1171,\n",
       " u'serviceoversized': 30865,\n",
       " u'631142': 4236,\n",
       " u'splitbedroom': 32287,\n",
       " u'sparehigh': 32161,\n",
       " u'6915real': 4612,\n",
       " u'consoles': 12975,\n",
       " u'cookouts': 13183,\n",
       " u'callme': 11055,\n",
       " u'94th': 5514,\n",
       " u'parking\\xe3': 26819,\n",
       " u'riders': 29490,\n",
       " u'ceilingssome': 11469,\n",
       " u'citycross': 12049,\n",
       " u'readybusiness': 28635,\n",
       " u'andwestern': 6962,\n",
       " u'originally': 26367,\n",
       " u'contactesther': 13015,\n",
       " u'nybg': 25860,\n",
       " u'pereless': 27125,\n",
       " u'exteriorand': 16619,\n",
       " u'harmonious': 19672,\n",
       " u'locationvery': 23348,\n",
       " u'following': 18036,\n",
       " u'verydecent': 36068,\n",
       " u'ditmas': 14802,\n",
       " u'munroe': 25195,\n",
       " u'fee___w43____massive': 17026,\n",
       " u'mirrors': 24793,\n",
       " u'buildinng': 10686,\n",
       " u'locks': 23365,\n",
       " u'rivage': 29552,\n",
       " u'applianeces': 7448,\n",
       " u'benardin': 9525,\n",
       " u'listens': 23069,\n",
       " u'largestorage': 22335,\n",
       " u'arenovated': 7728,\n",
       " u'bedroom_dman': 9276,\n",
       " u'fueled': 18482,\n",
       " u'wolvek': 37325,\n",
       " u'surfing': 33582,\n",
       " u'conscious': 12948,\n",
       " u'streeteasypets': 32931,\n",
       " u'roomemail': 29822,\n",
       " u'schoolharvey': 30470,\n",
       " u'cirlce1': 12018,\n",
       " u'mango': 23974,\n",
       " u'granitespacious': 19163,\n",
       " u'brick_great': 10218,\n",
       " u'conditioninggreat': 12866,\n",
       " u'pulled': 28234,\n",
       " u'trainsphotos': 34960,\n",
       " u'metrograph': 24516,\n",
       " u'webpage': 36760,\n",
       " u'viewingopen': 36168,\n",
       " u'years': 37577,\n",
       " u'sunterrace': 33405,\n",
       " u'lessees': 22677,\n",
       " u'agentsunshine': 6214,\n",
       " u'232222': 2322,\n",
       " u'yitzi': 37599,\n",
       " u'dryerall': 15264,\n",
       " u'troubles': 35197,\n",
       " u'roomcatering': 29772,\n",
       " u'faves': 16903,\n",
       " u'180328': 1457,\n",
       " u'milutin': 24716,\n",
       " u'apron': 7542,\n",
       " u'isamu': 21165,\n",
       " u'actquickly': 6002,\n",
       " u'thalia': 34135,\n",
       " u'aprox': 7543,\n",
       " u'frontage': 18443,\n",
       " u'joggings': 21426,\n",
       " u'brunchpet': 10443,\n",
       " u'didn': 14530,\n",
       " u'didi': 14528,\n",
       " u'rutenbergrealtyny': 30163,\n",
       " u'neighborhoodis': 25441,\n",
       " u'leather': 22590,\n",
       " u'quarter': 28390,\n",
       " u'bursting': 10747,\n",
       " u'groupcell': 19337,\n",
       " u'receipt': 28686,\n",
       " u'certifiedstunning': 11696,\n",
       " u'stationlocated': 32563,\n",
       " u'sponsor': 32293,\n",
       " u'entering': 16109,\n",
       " u'1900townhouse4': 1733,\n",
       " u'hourto': 20250,\n",
       " u'797': 4976,\n",
       " u'796': 4974,\n",
       " u'795': 4973,\n",
       " u'794': 4971,\n",
       " u'793': 4967,\n",
       " u'792': 4965,\n",
       " u'791': 4960,\n",
       " u'790': 4955,\n",
       " u'roomthese': 30007,\n",
       " u'fullbathroom': 18496,\n",
       " u'799': 4984,\n",
       " u'798': 4983,\n",
       " u'seriously': 30796,\n",
       " u'internet': 21041,\n",
       " u'stravinsky': 32900,\n",
       " u'640435': 4294,\n",
       " u'balade': 8528,\n",
       " u'eastbuilding': 15550,\n",
       " u'complicated': 12702,\n",
       " u'commutingbuilding': 12642,\n",
       " u'netready': 25492,\n",
       " u'marle': 24134,\n",
       " u'modest': 24883,\n",
       " u'initiate': 20862,\n",
       " u'aboard': 5771,\n",
       " u'lauduree': 22378,\n",
       " u'130nd': 782,\n",
       " u'saving': 30384,\n",
       " u'spoken': 32292,\n",
       " u'savino': 30386,\n",
       " u'one': 26166,\n",
       " u'kolache': 22032,\n",
       " u'sunlighthigh': 33360,\n",
       " u'ony': 26223,\n",
       " u'1458vacancy': 936,\n",
       " u'toiletwenge': 34679,\n",
       " u'onw': 26219,\n",
       " u'affords': 6165,\n",
       " u'eos': 16201,\n",
       " u'cityto': 12065,\n",
       " u'shawn': 31089,\n",
       " u'appointmentlisa': 7484,\n",
       " u'queensbuilding': 28407,\n",
       " u'snatch': 31751,\n",
       " u'bedroomwell': 9419,\n",
       " u'on2': 26155,\n",
       " u'specialists': 32205,\n",
       " u'crossroads': 13714,\n",
       " u'rehab': 28872,\n",
       " u'batheat': 8821,\n",
       " u'utilitycloset': 35819,\n",
       " u'availablelisting': 8141,\n",
       " u'viewrockrose': 36184,\n",
       " u'doormanroofdeckelevatorhardwoodfitness': 15035,\n",
       " u'wandering': 36609,\n",
       " u'areinterested': 7722,\n",
       " u'contemporaryhome': 13039,\n",
       " u'supersized': 33533,\n",
       " u'sumptuous': 33298,\n",
       " u'turned': 35294,\n",
       " u'locations': 23336,\n",
       " u'jewels': 21365,\n",
       " u'vanitiesoversized': 35931,\n",
       " u'onsitemost': 26211,\n",
       " u'leibherr': 22627,\n",
       " u'4769': 3618,\n",
       " u'borough': 10028,\n",
       " u'styledapartment': 33149,\n",
       " u'locationa': 23299,\n",
       " u'zoe': 37782,\n",
       " u'fashionable': 16872,\n",
       " u'coliseum': 12500,\n",
       " u'renovatedsteps': 29035,\n",
       " u'zoo': 37796,\n",
       " u'goodman': 19047,\n",
       " u'hardwoodlandscaped': 19648,\n",
       " u'zou': 37799,\n",
       " u'pulvinar': 28244,\n",
       " u'sprawls': 32323,\n",
       " u'printer': 28041,\n",
       " u'opposite': 26278,\n",
       " u'discerning': 14634,\n",
       " u'location2': 23289,\n",
       " u'rangeexposed': 28545,\n",
       " u'buffet': 10489,\n",
       " u'location1': 23287,\n",
       " u'avenueneighborhoodbushwick': 8265,\n",
       " u'pirme': 27376,\n",
       " u'smokers': 31726,\n",
       " u'buffed': 10488,\n",
       " u'thsi': 34481,\n",
       " u'laundrylarge': 22417,\n",
       " u'pellentesque': 27075,\n",
       " u'applianceswasher': 7437,\n",
       " u'181661': 1563,\n",
       " u'181667': 1564,\n",
       " u'stimulator': 32697,\n",
       " u'elan': 15725,\n",
       " u'aggressive': 6219,\n",
       " u'ttalk': 35231,\n",
       " u'30pmrequirements': 2844,\n",
       " u'viewing857': 36154,\n",
       " u'tubdanze': 35239,\n",
       " u'wsher': 37447,\n",
       " u'priding': 28017,\n",
       " u'apartmentmodernized': 7155,\n",
       " u'isincluded': 21181,\n",
       " u'guarded': 19374,\n",
       " u'jtk': 21488,\n",
       " u'closetlots': 12239,\n",
       " u'windowed': 37078,\n",
       " u'utilities': 35813,\n",
       " u'amenitieslivingfloor': 6681,\n",
       " u'balconies': 8535,\n",
       " u'buseshardwood': 10761,\n",
       " u'windowes': 37084,\n",
       " u'simplistic': 31467,\n",
       " u'wallsintricate': 36582,\n",
       " u'floorson': 17891,\n",
       " u'awaiting': 8328,\n",
       " u'elegentaly': 15760,\n",
       " u'sdog': 30576,\n",
       " u'nassau': 25311,\n",
       " u'nathaniel': 25322,\n",
       " u'tiki': 34511,\n",
       " u'croman5446please': 13675,\n",
       " u'tortilla': 34778,\n",
       " u'vision': 36384,\n",
       " u'exposurewith': 16583,\n",
       " u'immediatelyoutdoor': 20518,\n",
       " u'entrancesgiven': 16164,\n",
       " u'notice': 25771,\n",
       " u'3bdrm': 3250,\n",
       " u'455w37': 3535,\n",
       " u'832': 5128,\n",
       " u'833': 5133,\n",
       " u'830': 5124,\n",
       " u'831': 5126,\n",
       " u'836': 5145,\n",
       " u'837': 5146,\n",
       " u'834': 5137,\n",
       " u'835': 5140,\n",
       " u'enjoya': 16067,\n",
       " u'harvey': 19690,\n",
       " u'838': 5147,\n",
       " u'839': 5151,\n",
       " u'stainlessappliances': 32455,\n",
       " u'wests': 36876,\n",
       " u'windowscarrera': 37119,\n",
       " u'refreshed': 28805,\n",
       " u'enjoys': 16075,\n",
       " u'roomroof': 29931,\n",
       " u'amenitiesget': 6660,\n",
       " u's__mint': 30176,\n",
       " u'awards': 8335,\n",
       " u'busting': 10784,\n",
       " u'majestically': 23877,\n",
       " u'rhodes': 29456,\n",
       " u'5246': 3837,\n",
       " u'5241': 3836,\n",
       " u'villagefeatures': 36327,\n",
       " u'millionaire': 24707,\n",
       " u'platformfloor': 27475,\n",
       " u'179660': 1400,\n",
       " u'179662': 1401,\n",
       " u'179665': 1402,\n",
       " u'workplace': 37390,\n",
       " u'roominternet': 29865,\n",
       " u'83k': 5155,\n",
       " u'grooming': 19320,\n",
       " u'furnitures': 18567,\n",
       " u'barboncino': 8654,\n",
       " u'loveliest': 23540,\n",
       " u'blackall': 9725,\n",
       " u'___lexington': 5704,\n",
       " u'renovationgranite': 29063,\n",
       " u'west': 36844,\n",
       " u'latetop': 22370,\n",
       " u'hirschorn': 20030,\n",
       " u'wants': 36617,\n",
       " u'backstagerentals': 8481,\n",
       " u'villagetrue': 36345,\n",
       " u'formed': 18120,\n",
       " u'cafs': 11003,\n",
       " u'photos': 27270,\n",
       " u'geothermal': 18855,\n",
       " u'javier': 21311,\n",
       " u'tomer': 34696,\n",
       " u'former': 18121,\n",
       " u'realtylab': 28658,\n",
       " u'thestairs': 34297,\n",
       " u'gwb': 19429,\n",
       " u'thebuilding': 34193,\n",
       " u'fithe': 17480,\n",
       " u'newspaper': 25546,\n",
       " u'situation': 31562,\n",
       " u'voicemail': 36422,\n",
       " u'penthouse': 27099,\n",
       " u'6201email': 4196,\n",
       " u'carrara': 11227,\n",
       " u'fountainone': 18164,\n",
       " u'rentcredit': 29116,\n",
       " u'laundryspacious': 22438,\n",
       " u'technology': 33910,\n",
       " u'cafe': 10989,\n",
       " u'verified': 36042,\n",
       " u'otto': 26421,\n",
       " u'7779': 4918,\n",
       " u'visually': 36397,\n",
       " u'managements': 23939,\n",
       " u'edged': 15656,\n",
       " u'hideaway': 19947,\n",
       " u'163edward': 1164,\n",
       " u'elina': 15853,\n",
       " u'edges': 15658,\n",
       " u'wired': 37225,\n",
       " u'advertisement': 6121,\n",
       " u'andenergized': 6841,\n",
       " u'facilitiesroof': 16728,\n",
       " u'elevatorlarge': 15802,\n",
       " u'tracking': 34868,\n",
       " u'windowsthe': 37187,\n",
       " u'stuning': 33123,\n",
       " u'bedroomnear': 9335,\n",
       " u'valetparking': 35887,\n",
       " u'serviceprivate': 30873,\n",
       " u'comes': 12572,\n",
       " u'sunnyvale': 33390,\n",
       " u'nearby': 25358,\n",
       " u'dimension': 14561,\n",
       " u'ththis': 34483,\n",
       " u'storageduane': 32783,\n",
       " u'ptac': 28221,\n",
       " u'viewsopen': 36261,\n",
       " u'recycles': 28749,\n",
       " u'being': 9487,\n",
       " u'judiciously': 21494,\n",
       " u'closetthe': 12358,\n",
       " u'thenolita': 34246,\n",
       " u'ligula': 22950,\n",
       " u'456bus': 3539,\n",
       " u'generator': 18823,\n",
       " u'b17': 8402,\n",
       " u'workam': 37374,\n",
       " u'649861': 4423,\n",
       " u'b15': 8401,\n",
       " u'bathroomwasher': 9016,\n",
       " u'presbyteriancall': 27930,\n",
       " u'ceilingslocated': 11435,\n",
       " u'superparking': 33521,\n",
       " u'penty': 27103,\n",
       " u'unveil': 35698,\n",
       " u'traffic': 34879,\n",
       " ...}"
      ]
     },
     "execution_count": 28,
     "metadata": {},
     "output_type": "execute_result"
    }
   ],
   "source": [
    "count_vect.vocabulary_"
   ]
  },
  {
   "cell_type": "code",
   "execution_count": 33,
   "metadata": {
    "collapsed": false,
    "scrolled": false
   },
   "outputs": [
    {
     "data": {
      "text/html": [
       "<div>\n",
       "<table border=\"1\" class=\"dataframe\">\n",
       "  <thead>\n",
       "    <tr style=\"text-align: right;\">\n",
       "      <th></th>\n",
       "      <th>bathrooms</th>\n",
       "      <th>bedrooms</th>\n",
       "      <th>building_id</th>\n",
       "      <th>created</th>\n",
       "      <th>description</th>\n",
       "      <th>display_address</th>\n",
       "      <th>features</th>\n",
       "      <th>interest_level</th>\n",
       "      <th>latitude</th>\n",
       "      <th>listing_id</th>\n",
       "      <th>longitude</th>\n",
       "      <th>manager_id</th>\n",
       "      <th>photos</th>\n",
       "      <th>price</th>\n",
       "      <th>street_address</th>\n",
       "    </tr>\n",
       "  </thead>\n",
       "  <tbody>\n",
       "    <tr>\n",
       "      <th>32199</th>\n",
       "      <td>1.5</td>\n",
       "      <td>1</td>\n",
       "      <td>0f0c53a322afb0c819b2730fd6f3186b</td>\n",
       "      <td>2016-06-17 05:59:22</td>\n",
       "      <td>The Building- PRIVATE COBBLESTONED DRIVEWAY WI...</td>\n",
       "      <td>East 61st Street</td>\n",
       "      <td>[Dining Room, Doorman, Elevator, Fitness Cente...</td>\n",
       "      <td>low</td>\n",
       "      <td>40.7602</td>\n",
       "      <td>7178014</td>\n",
       "      <td>-73.9597</td>\n",
       "      <td>1e9f6e9584b306ad34124f1faf70a7c5</td>\n",
       "      <td>[https://photos.renthop.com/2/7178014_60ecee25...</td>\n",
       "      <td>4500</td>\n",
       "      <td>420 East 61st Street</td>\n",
       "    </tr>\n",
       "  </tbody>\n",
       "</table>\n",
       "</div>"
      ],
      "text/plain": [
       "       bathrooms  bedrooms                       building_id  \\\n",
       "32199        1.5         1  0f0c53a322afb0c819b2730fd6f3186b   \n",
       "\n",
       "                   created                                        description  \\\n",
       "32199  2016-06-17 05:59:22  The Building- PRIVATE COBBLESTONED DRIVEWAY WI...   \n",
       "\n",
       "        display_address                                           features  \\\n",
       "32199  East 61st Street  [Dining Room, Doorman, Elevator, Fitness Cente...   \n",
       "\n",
       "      interest_level  latitude  listing_id  longitude  \\\n",
       "32199            low   40.7602     7178014   -73.9597   \n",
       "\n",
       "                             manager_id  \\\n",
       "32199  1e9f6e9584b306ad34124f1faf70a7c5   \n",
       "\n",
       "                                                  photos  price  \\\n",
       "32199  [https://photos.renthop.com/2/7178014_60ecee25...   4500   \n",
       "\n",
       "             street_address  \n",
       "32199  420 East 61st Street  "
      ]
     },
     "execution_count": 33,
     "metadata": {},
     "output_type": "execute_result"
    }
   ],
   "source": [
    "df[df['description'].str.lower().str.contains('rentalcontact')]\n"
   ]
  },
  {
   "cell_type": "code",
   "execution_count": 34,
   "metadata": {
    "collapsed": false
   },
   "outputs": [
    {
     "data": {
      "text/plain": [
       "u'The Building- PRIVATE COBBLESTONED DRIVEWAY WITH LANDSCAPED 23,000 SQ FT GARDEN--- FULL TIME DOORMAN-- FLOOE TO CEILING WINDOWS WALLS WITH SPECTACULAR RIVER, BRIDGE AND SKYLINE VIEWS. ENDLESS CLOSET SPACE AND KING SIZE BEDROOM--- PASS THROUGH KITCHEN.<br /><br />The Apartment - is superior 900 sq.ft Furnished 1 bedrooms apartment is on the 18th floor with a southeast exposure providing magnificent water and city views and lots of natural sunlight into the entire apartment with its floor-to-ceiling windows. The kitchen is fully equipped with stainless steel appliances. There are 1.5 bathrooms with marble finishes: 1 full bathroom is located in the bedroom and the other half bathroom (toilet and sink) is located in the living room. The apartment also has a designated dining area and a Washer&Dryer in the unit!<br /><br />THE DEAL- $4500 Furnished unit. CAN BE DONE SHORT TERM RENTALContact Robert for a Private kagglemanager@renthop.com<br /><br /><p><a  website_redacted '"
      ]
     },
     "execution_count": 34,
     "metadata": {},
     "output_type": "execute_result"
    }
   ],
   "source": [
    "df.loc[32199]['description']"
   ]
  },
  {
   "cell_type": "code",
   "execution_count": 87,
   "metadata": {
    "collapsed": true
   },
   "outputs": [],
   "source": [
    "from bs4 import BeautifulSoup\n",
    "import re\n",
    "import nltk\n",
    "from string import ascii_letters\n",
    "from sklearn.feature_extraction.text import TfidfTransformer"
   ]
  },
  {
   "cell_type": "code",
   "execution_count": 76,
   "metadata": {
    "collapsed": false
   },
   "outputs": [],
   "source": [
    "def clean_html_tags(content):\n",
    "    return BeautifulSoup(content, 'lxml').text\n"
   ]
  },
  {
   "cell_type": "markdown",
   "metadata": {},
   "source": [
    "override tokenizer "
   ]
  },
  {
   "cell_type": "markdown",
   "metadata": {
    "collapsed": true
   },
   "source": [
    "# Preprocess the descriptions"
   ]
  },
  {
   "cell_type": "code",
   "execution_count": 72,
   "metadata": {
    "collapsed": false
   },
   "outputs": [],
   "source": [
    "def tokenizer(string):\n",
    "    #string = re.sub('^[\\w]', '', string)\n",
    "    tokens = nltk.word_tokenize(string)\n",
    "    cleaned = [x if not x.isdigit() else '_NUM_' for x in tokens]\n",
    "    return [x for x in cleaned if (x.isalpha() or x == '_NUM_')]\n",
    "    "
   ]
  },
  {
   "cell_type": "code",
   "execution_count": 78,
   "metadata": {
    "collapsed": false
   },
   "outputs": [
    {
     "name": "stderr",
     "output_type": "stream",
     "text": [
      "D:\\Anaconda2\\lib\\site-packages\\bs4\\__init__.py:219: UserWarning: \".\" looks like a filename, not markup. You shouldprobably open this file and pass the filehandle intoBeautiful Soup.\n",
      "  'Beautiful Soup.' % markup)\n"
     ]
    }
   ],
   "source": [
    "df['description'] = df['description'].apply(clean_html_tags)"
   ]
  },
  {
   "cell_type": "code",
   "execution_count": 80,
   "metadata": {
    "collapsed": false
   },
   "outputs": [],
   "source": [
    "count_vect = CountVectorizer(tokenizer = tokenizer, stop_words = 'english')\n",
    "document_mtrx = count_vect.fit_transform(df['description'])"
   ]
  },
  {
   "cell_type": "code",
   "execution_count": 85,
   "metadata": {
    "collapsed": false
   },
   "outputs": [],
   "source": [
    "count_vect.vocabulary_.get('ABCDEF')"
   ]
  },
  {
   "cell_type": "code",
   "execution_count": 91,
   "metadata": {
    "collapsed": false
   },
   "outputs": [],
   "source": [
    "tf_transformer = TfidfTransformer(use_idf=False).fit(document_mtrx)\n",
    "X_train_tf = tf_transformer.transform(document_mtrx)\n"
   ]
  },
  {
   "cell_type": "code",
   "execution_count": null,
   "metadata": {
    "collapsed": true
   },
   "outputs": [],
   "source": []
  }
 ],
 "metadata": {
  "kernelspec": {
   "display_name": "Python 2",
   "language": "python",
   "name": "python2"
  },
  "language_info": {
   "codemirror_mode": {
    "name": "ipython",
    "version": 2
   },
   "file_extension": ".py",
   "mimetype": "text/x-python",
   "name": "python",
   "nbconvert_exporter": "python",
   "pygments_lexer": "ipython2",
   "version": "2.7.13"
  }
 },
 "nbformat": 4,
 "nbformat_minor": 2
}
