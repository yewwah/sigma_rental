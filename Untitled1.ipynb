{
 "cells": [
  {
   "cell_type": "code",
   "execution_count": 7,
   "metadata": {
    "collapsed": true
   },
   "outputs": [],
   "source": [
    "import pandas as pd \n",
    "import numpy as np\n",
    "import json\n",
    "import seaborn as sb \n",
    "from sklearn.metrics import log_loss\n",
    "from sklearn import linear_model \n",
    "from sklearn.model_selection import StratifiedKFold\n",
    "from sklearn.svm import SVC\n",
    "from sklearn.model_selection import cross_val_score\n",
    "from scipy.stats import zscore\n",
    "from sklearn.metrics import confusion_matrix, accuracy_score\n",
    "from sklearn.model_selection import GridSearchCV\n",
    "import matplotlib.pyplot as plt\n",
    "import seaborn as sns\n",
    "%matplotlib inline"
   ]
  },
  {
   "cell_type": "code",
   "execution_count": 34,
   "metadata": {
    "collapsed": false
   },
   "outputs": [
    {
     "data": {
      "text/plain": [
       "49352"
      ]
     },
     "execution_count": 34,
     "metadata": {},
     "output_type": "execute_result"
    }
   ],
   "source": [
    "df = pd.read_json('data/train.json', encoding = 'utf-8', dtype = {'description': str})\n",
    "len(df)"
   ]
  },
  {
   "cell_type": "markdown",
   "metadata": {},
   "source": [
    "Studying the Features"
   ]
  },
  {
   "cell_type": "code",
   "execution_count": 9,
   "metadata": {
    "collapsed": false
   },
   "outputs": [
    {
     "data": {
      "text/html": [
       "<div>\n",
       "<table border=\"1\" class=\"dataframe\">\n",
       "  <thead>\n",
       "    <tr style=\"text-align: right;\">\n",
       "      <th></th>\n",
       "      <th>bathrooms</th>\n",
       "      <th>bedrooms</th>\n",
       "      <th>building_id</th>\n",
       "      <th>created</th>\n",
       "      <th>description</th>\n",
       "      <th>display_address</th>\n",
       "      <th>features</th>\n",
       "      <th>interest_level</th>\n",
       "      <th>latitude</th>\n",
       "      <th>listing_id</th>\n",
       "      <th>longitude</th>\n",
       "      <th>manager_id</th>\n",
       "      <th>photos</th>\n",
       "      <th>price</th>\n",
       "      <th>street_address</th>\n",
       "    </tr>\n",
       "  </thead>\n",
       "  <tbody>\n",
       "    <tr>\n",
       "      <th>10</th>\n",
       "      <td>1.5</td>\n",
       "      <td>3</td>\n",
       "      <td>53a5b119ba8f7b61d4e010512e0dfc85</td>\n",
       "      <td>2016-06-24 07:54:24</td>\n",
       "      <td>A Brand New 3 Bedroom 1.5 bath ApartmentEnjoy ...</td>\n",
       "      <td>Metropolitan Avenue</td>\n",
       "      <td>[]</td>\n",
       "      <td>medium</td>\n",
       "      <td>40.7145</td>\n",
       "      <td>7211212</td>\n",
       "      <td>-73.9425</td>\n",
       "      <td>5ba989232d0489da1b5f2c45f6688adc</td>\n",
       "      <td>[https://photos.renthop.com/2/7211212_1ed4542e...</td>\n",
       "      <td>3000</td>\n",
       "      <td>792 Metropolitan Avenue</td>\n",
       "    </tr>\n",
       "    <tr>\n",
       "      <th>10000</th>\n",
       "      <td>1.0</td>\n",
       "      <td>2</td>\n",
       "      <td>c5c8a357cba207596b04d1afd1e4f130</td>\n",
       "      <td>2016-06-12 12:19:27</td>\n",
       "      <td></td>\n",
       "      <td>Columbus Avenue</td>\n",
       "      <td>[Doorman, Elevator, Fitness Center, Cats Allow...</td>\n",
       "      <td>low</td>\n",
       "      <td>40.7947</td>\n",
       "      <td>7150865</td>\n",
       "      <td>-73.9667</td>\n",
       "      <td>7533621a882f71e25173b27e3139d83d</td>\n",
       "      <td>[https://photos.renthop.com/2/7150865_be3306c5...</td>\n",
       "      <td>5465</td>\n",
       "      <td>808 Columbus Avenue</td>\n",
       "    </tr>\n",
       "    <tr>\n",
       "      <th>100004</th>\n",
       "      <td>1.0</td>\n",
       "      <td>1</td>\n",
       "      <td>c3ba40552e2120b0acfc3cb5730bb2aa</td>\n",
       "      <td>2016-04-17 03:26:41</td>\n",
       "      <td>Top Top West Village location, beautiful Pre-w...</td>\n",
       "      <td>W 13 Street</td>\n",
       "      <td>[Laundry In Building, Dishwasher, Hardwood Flo...</td>\n",
       "      <td>high</td>\n",
       "      <td>40.7388</td>\n",
       "      <td>6887163</td>\n",
       "      <td>-74.0018</td>\n",
       "      <td>d9039c43983f6e564b1482b273bd7b01</td>\n",
       "      <td>[https://photos.renthop.com/2/6887163_de85c427...</td>\n",
       "      <td>2850</td>\n",
       "      <td>241 W 13 Street</td>\n",
       "    </tr>\n",
       "    <tr>\n",
       "      <th>100007</th>\n",
       "      <td>1.0</td>\n",
       "      <td>1</td>\n",
       "      <td>28d9ad350afeaab8027513a3e52ac8d5</td>\n",
       "      <td>2016-04-18 02:22:02</td>\n",
       "      <td>Building Amenities - Garage - Garden - fitness...</td>\n",
       "      <td>East 49th Street</td>\n",
       "      <td>[Hardwood Floors, No Fee]</td>\n",
       "      <td>low</td>\n",
       "      <td>40.7539</td>\n",
       "      <td>6888711</td>\n",
       "      <td>-73.9677</td>\n",
       "      <td>1067e078446a7897d2da493d2f741316</td>\n",
       "      <td>[https://photos.renthop.com/2/6888711_6e660cee...</td>\n",
       "      <td>3275</td>\n",
       "      <td>333 East 49th Street</td>\n",
       "    </tr>\n",
       "    <tr>\n",
       "      <th>100013</th>\n",
       "      <td>1.0</td>\n",
       "      <td>4</td>\n",
       "      <td>0</td>\n",
       "      <td>2016-04-28 01:32:41</td>\n",
       "      <td>Beautifully renovated 3 bedroom flex 4 bedroom...</td>\n",
       "      <td>West 143rd Street</td>\n",
       "      <td>[Pre-War]</td>\n",
       "      <td>low</td>\n",
       "      <td>40.8241</td>\n",
       "      <td>6934781</td>\n",
       "      <td>-73.9493</td>\n",
       "      <td>98e13ad4b495b9613cef886d79a6291f</td>\n",
       "      <td>[https://photos.renthop.com/2/6934781_1fa4b41a...</td>\n",
       "      <td>3350</td>\n",
       "      <td>500 West 143rd Street</td>\n",
       "    </tr>\n",
       "  </tbody>\n",
       "</table>\n",
       "</div>"
      ],
      "text/plain": [
       "        bathrooms  bedrooms                       building_id  \\\n",
       "10            1.5         3  53a5b119ba8f7b61d4e010512e0dfc85   \n",
       "10000         1.0         2  c5c8a357cba207596b04d1afd1e4f130   \n",
       "100004        1.0         1  c3ba40552e2120b0acfc3cb5730bb2aa   \n",
       "100007        1.0         1  28d9ad350afeaab8027513a3e52ac8d5   \n",
       "100013        1.0         4                                 0   \n",
       "\n",
       "                    created  \\\n",
       "10      2016-06-24 07:54:24   \n",
       "10000   2016-06-12 12:19:27   \n",
       "100004  2016-04-17 03:26:41   \n",
       "100007  2016-04-18 02:22:02   \n",
       "100013  2016-04-28 01:32:41   \n",
       "\n",
       "                                              description  \\\n",
       "10      A Brand New 3 Bedroom 1.5 bath ApartmentEnjoy ...   \n",
       "10000                                                       \n",
       "100004  Top Top West Village location, beautiful Pre-w...   \n",
       "100007  Building Amenities - Garage - Garden - fitness...   \n",
       "100013  Beautifully renovated 3 bedroom flex 4 bedroom...   \n",
       "\n",
       "            display_address  \\\n",
       "10      Metropolitan Avenue   \n",
       "10000       Columbus Avenue   \n",
       "100004          W 13 Street   \n",
       "100007     East 49th Street   \n",
       "100013    West 143rd Street   \n",
       "\n",
       "                                                 features interest_level  \\\n",
       "10                                                     []         medium   \n",
       "10000   [Doorman, Elevator, Fitness Center, Cats Allow...            low   \n",
       "100004  [Laundry In Building, Dishwasher, Hardwood Flo...           high   \n",
       "100007                          [Hardwood Floors, No Fee]            low   \n",
       "100013                                          [Pre-War]            low   \n",
       "\n",
       "        latitude  listing_id  longitude                        manager_id  \\\n",
       "10       40.7145     7211212   -73.9425  5ba989232d0489da1b5f2c45f6688adc   \n",
       "10000    40.7947     7150865   -73.9667  7533621a882f71e25173b27e3139d83d   \n",
       "100004   40.7388     6887163   -74.0018  d9039c43983f6e564b1482b273bd7b01   \n",
       "100007   40.7539     6888711   -73.9677  1067e078446a7897d2da493d2f741316   \n",
       "100013   40.8241     6934781   -73.9493  98e13ad4b495b9613cef886d79a6291f   \n",
       "\n",
       "                                                   photos  price  \\\n",
       "10      [https://photos.renthop.com/2/7211212_1ed4542e...   3000   \n",
       "10000   [https://photos.renthop.com/2/7150865_be3306c5...   5465   \n",
       "100004  [https://photos.renthop.com/2/6887163_de85c427...   2850   \n",
       "100007  [https://photos.renthop.com/2/6888711_6e660cee...   3275   \n",
       "100013  [https://photos.renthop.com/2/6934781_1fa4b41a...   3350   \n",
       "\n",
       "                 street_address  \n",
       "10      792 Metropolitan Avenue  \n",
       "10000       808 Columbus Avenue  \n",
       "100004          241 W 13 Street  \n",
       "100007     333 East 49th Street  \n",
       "100013    500 West 143rd Street  "
      ]
     },
     "execution_count": 9,
     "metadata": {},
     "output_type": "execute_result"
    }
   ],
   "source": [
    "df.head()"
   ]
  },
  {
   "cell_type": "markdown",
   "metadata": {},
   "source": [
    "Study the different number of class label samples"
   ]
  },
  {
   "cell_type": "code",
   "execution_count": 10,
   "metadata": {
    "collapsed": false
   },
   "outputs": [
    {
     "data": {
      "text/plain": [
       "<matplotlib.axes._subplots.AxesSubplot at 0x7f868b020590>"
      ]
     },
     "execution_count": 10,
     "metadata": {},
     "output_type": "execute_result"
    },
    {
     "data": {
      "image/png": "[encoded data removed]",
      "text/plain": [
       "<matplotlib.figure.Figure at 0x7f868b020990>"
      ]
     },
     "metadata": {},
     "output_type": "display_data"
    }
   ],
   "source": [
    "df['interest_level'].value_counts().plot(kind='bar')"
   ]
  },
  {
   "cell_type": "markdown",
   "metadata": {},
   "source": [
    "Taking numeric features and looking at their box plot "
   ]
  },
  {
   "cell_type": "markdown",
   "metadata": {},
   "source": [
    "Bathrooms"
   ]
  },
  {
   "cell_type": "code",
   "execution_count": 11,
   "metadata": {
    "collapsed": false
   },
   "outputs": [
    {
     "name": "stdout",
     "output_type": "stream",
     "text": [
      "313.0 occurences in bin 0.0\n",
      "40067.0 occurences in bin 1.0\n",
      "7937.0 occurences in bin 2.0\n",
      "815.0 occurences in bin 3.0\n",
      "188.0 occurences in bin 4.0\n",
      "25.0 occurences in bin 5.0\n",
      "5.0 occurences in bin 6.0\n",
      "1.0 occurences in bin 7.0\n",
      "0.0 occurences in bin 8.0\n",
      "1.0 occurences in bin 9.0\n"
     ]
    },
    {
     "data": {
      "image/png": "[encoded data removed]",
      "text/plain": [
       "<matplotlib.figure.Figure at 0x7f86892d2b10>"
      ]
     },
     "metadata": {},
     "output_type": "display_data"
    }
   ],
   "source": [
    "(n, bins, patch) = plt.hist(df['bathrooms'],bins = 10)\n",
    "for count, bin in zip(n, bins):\n",
    "    print '{0} occurences in bin {1}'.format(count, bin)"
   ]
  },
  {
   "cell_type": "markdown",
   "metadata": {},
   "source": [
    "bedrooms"
   ]
  },
  {
   "cell_type": "code",
   "execution_count": 12,
   "metadata": {
    "collapsed": false
   },
   "outputs": [
    {
     "name": "stdout",
     "output_type": "stream",
     "text": [
      "9475.0 occurences in bin 0.0\n",
      "15752.0 occurences in bin 0.8\n",
      "14623.0 occurences in bin 1.6\n",
      "7276.0 occurences in bin 2.4\n",
      "0.0 occurences in bin 3.2\n",
      "1929.0 occurences in bin 4.0\n",
      "247.0 occurences in bin 4.8\n",
      "46.0 occurences in bin 5.6\n",
      "2.0 occurences in bin 6.4\n",
      "2.0 occurences in bin 7.2\n"
     ]
    },
    {
     "data": {
      "image/png": "[encoded data removed]",
      "text/plain": [
       "<matplotlib.figure.Figure at 0x7f868dfc4910>"
      ]
     },
     "metadata": {},
     "output_type": "display_data"
    }
   ],
   "source": [
    "(n, bins, patch) = plt.hist(df['bedrooms'],bins = 10)\n",
    "for count, bin in zip(n, bins):\n",
    "    print '{0} occurences in bin {1}'.format(count, bin)"
   ]
  },
  {
   "cell_type": "markdown",
   "metadata": {},
   "source": [
    "latitude"
   ]
  },
  {
   "cell_type": "code",
   "execution_count": 13,
   "metadata": {
    "collapsed": false
   },
   "outputs": [
    {
     "name": "stdout",
     "output_type": "stream",
     "text": [
      "12.0 occurences in bin 0.0\n",
      "0.0 occurences in bin 4.48835\n",
      "0.0 occurences in bin 8.9767\n",
      "0.0 occurences in bin 13.46505\n",
      "0.0 occurences in bin 17.9534\n",
      "0.0 occurences in bin 22.44175\n",
      "0.0 occurences in bin 26.9301\n",
      "1.0 occurences in bin 31.41845\n",
      "4.0 occurences in bin 35.9068\n",
      "49335.0 occurences in bin 40.39515\n"
     ]
    },
    {
     "data": {
      "image/png": "[encoded data removed]",
      "text/plain": [
       "<matplotlib.figure.Figure at 0x7f86892d2590>"
      ]
     },
     "metadata": {},
     "output_type": "display_data"
    }
   ],
   "source": [
    "(n, bins, patch) = plt.hist(df['latitude'],bins = 10)\n",
    "for count, bin in zip(n, bins):\n",
    "    print '{0} occurences in bin {1}'.format(count, bin)"
   ]
  },
  {
   "cell_type": "markdown",
   "metadata": {},
   "source": [
    "longitude"
   ]
  },
  {
   "cell_type": "code",
   "execution_count": 14,
   "metadata": {
    "collapsed": false
   },
   "outputs": [
    {
     "name": "stdout",
     "output_type": "stream",
     "text": [
      "1.0 occurences in bin -118.271\n",
      "0.0 occurences in bin -106.4439\n",
      "3.0 occurences in bin -94.6168\n",
      "49336.0 occurences in bin -82.7897\n",
      "0.0 occurences in bin -70.9626\n",
      "0.0 occurences in bin -59.1355\n",
      "0.0 occurences in bin -47.3084\n",
      "0.0 occurences in bin -35.4813\n",
      "0.0 occurences in bin -23.6542\n",
      "12.0 occurences in bin -11.8271\n"
     ]
    },
    {
     "data": {
      "image/png": "[encoded data removed]",
      "text/plain": [
       "<matplotlib.figure.Figure at 0x7f86892d2410>"
      ]
     },
     "metadata": {},
     "output_type": "display_data"
    }
   ],
   "source": [
    "(n, bins, patch) = plt.hist(df['longitude'],bins = 10)\n",
    "for count, bin in zip(n, bins):\n",
    "    print '{0} occurences in bin {1}'.format(count, bin)"
   ]
  },
  {
   "cell_type": "markdown",
   "metadata": {},
   "source": [
    "price"
   ]
  },
  {
   "cell_type": "code",
   "execution_count": 15,
   "metadata": {
    "collapsed": false
   },
   "outputs": [
    {
     "name": "stdout",
     "output_type": "stream",
     "text": [
      "49348.0 occurences in bin 43.0\n",
      "0.0 occurences in bin 449038.7\n",
      "3.0 occurences in bin 898034.4\n",
      "0.0 occurences in bin 1347030.1\n",
      "0.0 occurences in bin 1796025.8\n",
      "0.0 occurences in bin 2245021.5\n",
      "0.0 occurences in bin 2694017.2\n",
      "0.0 occurences in bin 3143012.9\n",
      "0.0 occurences in bin 3592008.6\n",
      "1.0 occurences in bin 4041004.3\n"
     ]
    },
    {
     "data": {
      "image/png": "[encoded data removed]",
      "text/plain": [
       "<matplotlib.figure.Figure at 0x7f868f1834d0>"
      ]
     },
     "metadata": {},
     "output_type": "display_data"
    }
   ],
   "source": [
    "(n, bins, patch) = plt.hist(df['price'],bins = 10)\n",
    "for count, bin in zip(n, bins):\n",
    "    print '{0} occurences in bin {1}'.format(count, bin)"
   ]
  },
  {
   "cell_type": "code",
   "execution_count": 16,
   "metadata": {
    "collapsed": false
   },
   "outputs": [
    {
     "name": "stdout",
     "output_type": "stream",
     "text": [
      "48920.0 occurences in bin 43.0\n",
      "369.0 occurences in bin 13538.7\n",
      "41.0 occurences in bin 27034.4\n",
      "9.0 occurences in bin 40530.1\n",
      "3.0 occurences in bin 54025.8\n",
      "1.0 occurences in bin 67521.5\n",
      "2.0 occurences in bin 81017.2\n",
      "1.0 occurences in bin 94512.9\n",
      "1.0 occurences in bin 108008.6\n",
      "1.0 occurences in bin 121504.3\n"
     ]
    },
    {
     "data": {
      "image/png": "[encoded data removed]",
      "text/plain": [
       "<matplotlib.figure.Figure at 0x7f8693b49690>"
      ]
     },
     "metadata": {},
     "output_type": "display_data"
    }
   ],
   "source": [
    "#Filter prices\n",
    "df_cleaned = df[df['price'] < 449038.7]\n",
    "(n, bins, patch) = plt.hist(df_cleaned['price'],bins = 10)\n",
    "for count, bin in zip(n, bins):\n",
    "    print '{0} occurences in bin {1}'.format(count, bin)"
   ]
  },
  {
   "cell_type": "code",
   "execution_count": 17,
   "metadata": {
    "collapsed": false
   },
   "outputs": [
    {
     "data": {
      "text/html": [
       "<div>\n",
       "<table border=\"1\" class=\"dataframe\">\n",
       "  <thead>\n",
       "    <tr style=\"text-align: right;\">\n",
       "      <th></th>\n",
       "      <th>bathrooms</th>\n",
       "      <th>bedrooms</th>\n",
       "      <th>building_id</th>\n",
       "      <th>created</th>\n",
       "      <th>description</th>\n",
       "      <th>display_address</th>\n",
       "      <th>features</th>\n",
       "      <th>interest_level</th>\n",
       "      <th>latitude</th>\n",
       "      <th>listing_id</th>\n",
       "      <th>longitude</th>\n",
       "      <th>manager_id</th>\n",
       "      <th>photos</th>\n",
       "      <th>price</th>\n",
       "      <th>street_address</th>\n",
       "    </tr>\n",
       "  </thead>\n",
       "  <tbody>\n",
       "    <tr>\n",
       "      <th>10672</th>\n",
       "      <td>3.0</td>\n",
       "      <td>4</td>\n",
       "      <td>b251a0be61fc94094c047be2f87f3726</td>\n",
       "      <td>2016-06-04 06:09:50</td>\n",
       "      <td>No Fee! XXL 4bed/3 bath in 80s and West end av...</td>\n",
       "      <td>W End Ave.</td>\n",
       "      <td>[Dining Room, Doorman, Elevator, Pre-War, Laun...</td>\n",
       "      <td>medium</td>\n",
       "      <td>40.7886</td>\n",
       "      <td>7111089</td>\n",
       "      <td>-73.9786</td>\n",
       "      <td>d024c48f43195c6c978a8f51aa46715c</td>\n",
       "      <td>[https://photos.renthop.com/2/7111089_fb96ced2...</td>\n",
       "      <td>14000</td>\n",
       "      <td>525 W End Ave.</td>\n",
       "    </tr>\n",
       "    <tr>\n",
       "      <th>21816</th>\n",
       "      <td>3.0</td>\n",
       "      <td>4</td>\n",
       "      <td>40be9b1245dab08e3093713a1e074fe1</td>\n",
       "      <td>2016-06-04 06:10:25</td>\n",
       "      <td>Fully renovated--HUGE Penthouse,  4bed/3bath i...</td>\n",
       "      <td>W 72 St.</td>\n",
       "      <td>[Dining Room, Doorman, Elevator, Loft, Laundry...</td>\n",
       "      <td>medium</td>\n",
       "      <td>40.7774</td>\n",
       "      <td>7111107</td>\n",
       "      <td>-73.9780</td>\n",
       "      <td>d024c48f43195c6c978a8f51aa46715c</td>\n",
       "      <td>[https://photos.renthop.com/2/7111107_e875a4bd...</td>\n",
       "      <td>15000</td>\n",
       "      <td>41 W 72 St.</td>\n",
       "    </tr>\n",
       "    <tr>\n",
       "      <th>22668</th>\n",
       "      <td>3.0</td>\n",
       "      <td>3</td>\n",
       "      <td>ab2d28a86c3a6908b806d8a1824eeb56</td>\n",
       "      <td>2016-06-07 05:20:36</td>\n",
       "      <td>Introducing 456 Washington St, a limited numbe...</td>\n",
       "      <td>456 Washington Street</td>\n",
       "      <td>[Fireplace, Roof Deck, Dining Room, Balcony, D...</td>\n",
       "      <td>medium</td>\n",
       "      <td>40.7243</td>\n",
       "      <td>7120554</td>\n",
       "      <td>-74.0103</td>\n",
       "      <td>ebdbac7c1a558ca343cd99121e6e321f</td>\n",
       "      <td>[https://photos.renthop.com/2/7120554_ad4d9f32...</td>\n",
       "      <td>14595</td>\n",
       "      <td>456 Washington Street</td>\n",
       "    </tr>\n",
       "    <tr>\n",
       "      <th>4620</th>\n",
       "      <td>1.0</td>\n",
       "      <td>0</td>\n",
       "      <td>c0d27c9422c375c651baa7b61e4a9dca</td>\n",
       "      <td>2016-06-07 17:35:10</td>\n",
       "      <td>The BEST DEAL!!!!!\\r\\rBeautiful Studio in a ni...</td>\n",
       "      <td>Van Horn St and 57th ave</td>\n",
       "      <td>[Elevator, Laundry In Building, Balcony]</td>\n",
       "      <td>high</td>\n",
       "      <td>40.7323</td>\n",
       "      <td>7122037</td>\n",
       "      <td>-73.8761</td>\n",
       "      <td>3d7ef07518d7564ab1c55f6fa7c80527</td>\n",
       "      <td>[https://photos.renthop.com/2/7122037_531f0877...</td>\n",
       "      <td>111111</td>\n",
       "      <td>57-25 Van Horn St</td>\n",
       "    </tr>\n",
       "    <tr>\n",
       "      <th>64920</th>\n",
       "      <td>2.0</td>\n",
       "      <td>2</td>\n",
       "      <td>fe1886fbb4eab3340f13510452bfb0d8</td>\n",
       "      <td>2016-05-07 02:19:33</td>\n",
       "      <td>Exceptional, top-of-the-line 2 bedroom mezzani...</td>\n",
       "      <td>10 Charles Street</td>\n",
       "      <td>[Fireplace, Furnished, Garden/Patio, Live/Work...</td>\n",
       "      <td>medium</td>\n",
       "      <td>40.7351</td>\n",
       "      <td>6977855</td>\n",
       "      <td>-74.0008</td>\n",
       "      <td>d1e3b5eb450df7d8aae32e41f7ba10e4</td>\n",
       "      <td>[https://photos.renthop.com/2/6977855_8c6acc35...</td>\n",
       "      <td>14000</td>\n",
       "      <td>10 Charles Street</td>\n",
       "    </tr>\n",
       "    <tr>\n",
       "      <th>83679</th>\n",
       "      <td>2.0</td>\n",
       "      <td>2</td>\n",
       "      <td>a0e06b2e9a504d5b758646abd1279519</td>\n",
       "      <td>2016-04-27 06:10:42</td>\n",
       "      <td>Sprawling penthouse two bedroom in the heart o...</td>\n",
       "      <td>Thompson St.</td>\n",
       "      <td>[Roof Deck, Dining Room, Doorman, Elevator, Fi...</td>\n",
       "      <td>medium</td>\n",
       "      <td>40.7239</td>\n",
       "      <td>6932520</td>\n",
       "      <td>-74.0036</td>\n",
       "      <td>ad3d8ddc52c7e0859b5c6c7f7949c3bd</td>\n",
       "      <td>[https://photos.renthop.com/2/6932520_39e27950...</td>\n",
       "      <td>14000</td>\n",
       "      <td>51 Thompson St.</td>\n",
       "    </tr>\n",
       "  </tbody>\n",
       "</table>\n",
       "</div>"
      ],
      "text/plain": [
       "       bathrooms  bedrooms                       building_id  \\\n",
       "10672        3.0         4  b251a0be61fc94094c047be2f87f3726   \n",
       "21816        3.0         4  40be9b1245dab08e3093713a1e074fe1   \n",
       "22668        3.0         3  ab2d28a86c3a6908b806d8a1824eeb56   \n",
       "4620         1.0         0  c0d27c9422c375c651baa7b61e4a9dca   \n",
       "64920        2.0         2  fe1886fbb4eab3340f13510452bfb0d8   \n",
       "83679        2.0         2  a0e06b2e9a504d5b758646abd1279519   \n",
       "\n",
       "                   created                                        description  \\\n",
       "10672  2016-06-04 06:09:50  No Fee! XXL 4bed/3 bath in 80s and West end av...   \n",
       "21816  2016-06-04 06:10:25  Fully renovated--HUGE Penthouse,  4bed/3bath i...   \n",
       "22668  2016-06-07 05:20:36  Introducing 456 Washington St, a limited numbe...   \n",
       "4620   2016-06-07 17:35:10  The BEST DEAL!!!!!\\r\\rBeautiful Studio in a ni...   \n",
       "64920  2016-05-07 02:19:33  Exceptional, top-of-the-line 2 bedroom mezzani...   \n",
       "83679  2016-04-27 06:10:42  Sprawling penthouse two bedroom in the heart o...   \n",
       "\n",
       "                display_address  \\\n",
       "10672                W End Ave.   \n",
       "21816                  W 72 St.   \n",
       "22668     456 Washington Street   \n",
       "4620   Van Horn St and 57th ave   \n",
       "64920         10 Charles Street   \n",
       "83679              Thompson St.   \n",
       "\n",
       "                                                features interest_level  \\\n",
       "10672  [Dining Room, Doorman, Elevator, Pre-War, Laun...         medium   \n",
       "21816  [Dining Room, Doorman, Elevator, Loft, Laundry...         medium   \n",
       "22668  [Fireplace, Roof Deck, Dining Room, Balcony, D...         medium   \n",
       "4620            [Elevator, Laundry In Building, Balcony]           high   \n",
       "64920  [Fireplace, Furnished, Garden/Patio, Live/Work...         medium   \n",
       "83679  [Roof Deck, Dining Room, Doorman, Elevator, Fi...         medium   \n",
       "\n",
       "       latitude  listing_id  longitude                        manager_id  \\\n",
       "10672   40.7886     7111089   -73.9786  d024c48f43195c6c978a8f51aa46715c   \n",
       "21816   40.7774     7111107   -73.9780  d024c48f43195c6c978a8f51aa46715c   \n",
       "22668   40.7243     7120554   -74.0103  ebdbac7c1a558ca343cd99121e6e321f   \n",
       "4620    40.7323     7122037   -73.8761  3d7ef07518d7564ab1c55f6fa7c80527   \n",
       "64920   40.7351     6977855   -74.0008  d1e3b5eb450df7d8aae32e41f7ba10e4   \n",
       "83679   40.7239     6932520   -74.0036  ad3d8ddc52c7e0859b5c6c7f7949c3bd   \n",
       "\n",
       "                                                  photos   price  \\\n",
       "10672  [https://photos.renthop.com/2/7111089_fb96ced2...   14000   \n",
       "21816  [https://photos.renthop.com/2/7111107_e875a4bd...   15000   \n",
       "22668  [https://photos.renthop.com/2/7120554_ad4d9f32...   14595   \n",
       "4620   [https://photos.renthop.com/2/7122037_531f0877...  111111   \n",
       "64920  [https://photos.renthop.com/2/6977855_8c6acc35...   14000   \n",
       "83679  [https://photos.renthop.com/2/6932520_39e27950...   14000   \n",
       "\n",
       "              street_address  \n",
       "10672         525 W End Ave.  \n",
       "21816            41 W 72 St.  \n",
       "22668  456 Washington Street  \n",
       "4620       57-25 Van Horn St  \n",
       "64920      10 Charles Street  \n",
       "83679        51 Thompson St.  "
      ]
     },
     "execution_count": 17,
     "metadata": {},
     "output_type": "execute_result"
    }
   ],
   "source": [
    "# Study the outlier prices and their interest level \n",
    "prices = df_cleaned[(df_cleaned['price'] > 13538) & (df_cleaned['interest_level'] != 'low')]\n",
    "prices"
   ]
  },
  {
   "cell_type": "markdown",
   "metadata": {},
   "source": [
    "features Length"
   ]
  },
  {
   "cell_type": "code",
   "execution_count": 18,
   "metadata": {
    "collapsed": false
   },
   "outputs": [
    {
     "name": "stdout",
     "output_type": "stream",
     "text": [
      "18707.0 occurences in bin 0.0\n",
      "17215.0 occurences in bin 3.9\n",
      "9191.0 occurences in bin 7.8\n",
      "3579.0 occurences in bin 11.7\n",
      "578.0 occurences in bin 15.6\n",
      "57.0 occurences in bin 19.5\n",
      "18.0 occurences in bin 23.4\n",
      "4.0 occurences in bin 27.3\n",
      "1.0 occurences in bin 31.2\n",
      "2.0 occurences in bin 35.1\n"
     ]
    },
    {
     "data": {
      "image/png": "[encoded data removed]",
      "text/plain": [
       "<matplotlib.figure.Figure at 0x7f868f7a60d0>"
      ]
     },
     "metadata": {},
     "output_type": "display_data"
    }
   ],
   "source": [
    "(n, bins, patch) = plt.hist(df['features'].apply(len),bins = 10)\n",
    "for count, bin in zip(n, bins):\n",
    "    print '{0} occurences in bin {1}'.format(count, bin)"
   ]
  },
  {
   "cell_type": "code",
   "execution_count": 19,
   "metadata": {
    "collapsed": false
   },
   "outputs": [
    {
     "data": {
      "text/plain": [
       "<matplotlib.axes._subplots.AxesSubplot at 0x7f86870b4290>"
      ]
     },
     "execution_count": 19,
     "metadata": {},
     "output_type": "execute_result"
    },
    {
     "data": {
      "image/png": "[encoded data removed]",
      "text/plain": [
       "<matplotlib.figure.Figure at 0x7f8692f25a90>"
      ]
     },
     "metadata": {},
     "output_type": "display_data"
    }
   ],
   "source": [
    "df[df['features'].apply(len) > 27]['interest_level'].value_counts().plot(kind=\"bar\")"
   ]
  },
  {
   "cell_type": "markdown",
   "metadata": {},
   "source": [
    "Cleaning the dataframe"
   ]
  },
  {
   "cell_type": "code",
   "execution_count": 35,
   "metadata": {
    "collapsed": false
   },
   "outputs": [],
   "source": [
    "#Remove outliers in data\n",
    "df = df[df['bathrooms']  <= 4]\n",
    "df = df[df['bedrooms'] < 5.6]\n",
    "df = df[df['latitude'] > 40]\n",
    "df = df[(df['longitude'] > -82) & (df['longitude'] < -70) ]\n",
    "df = df[df['price'] < 14000]\n"
   ]
  },
  {
   "cell_type": "code",
   "execution_count": 36,
   "metadata": {
    "collapsed": false
   },
   "outputs": [],
   "source": [
    "df['features'] = df['features'].apply(len)\n",
    "df['description'] = df['description'].apply(len)"
   ]
  },
  {
   "cell_type": "code",
   "execution_count": 37,
   "metadata": {
    "collapsed": false
   },
   "outputs": [],
   "source": [
    "df_target = df['interest_level']\n",
    "df = df[['features', 'description', 'price', 'bedrooms', 'bathrooms','latitude', 'longitude']]"
   ]
  },
  {
   "cell_type": "markdown",
   "metadata": {
    "collapsed": true
   },
   "source": [
    "Making the model"
   ]
  },
  {
   "cell_type": "code",
   "execution_count": 38,
   "metadata": {
    "collapsed": false
   },
   "outputs": [],
   "source": [
    "import xgboost\n",
    "from sklearn.model_selection import StratifiedKFold\n",
    "est = xgboost.XGBClassifier(n_estimators  = 300, silent = False, objective = 'mlogloss')\n",
    "kfold = StratifiedKFold(n_splits=5, random_state=7)\n",
    "results = cross_val_score(est, df, df_target, scoring='neg_log_loss', cv = kfold) "
   ]
  },
  {
   "cell_type": "code",
   "execution_count": 39,
   "metadata": {
    "collapsed": false
   },
   "outputs": [
    {
     "data": {
      "text/plain": [
       "array([-0.64209823, -0.63000561, -0.63789201, -0.63153039, -0.63836994])"
      ]
     },
     "execution_count": 39,
     "metadata": {},
     "output_type": "execute_result"
    }
   ],
   "source": [
    "results"
   ]
  },
  {
   "cell_type": "markdown",
   "metadata": {},
   "source": [
    "Testing the data"
   ]
  },
  {
   "cell_type": "code",
   "execution_count": 48,
   "metadata": {
    "collapsed": false
   },
   "outputs": [
    {
     "name": "stdout",
     "output_type": "stream",
     "text": [
      "0         7142618\n",
      "1         7210040\n",
      "100       7103890\n",
      "1000      7143442\n",
      "100000    6860601\n",
      "100001    6840081\n",
      "100002    6922337\n",
      "100003    6913616\n",
      "100005    6937820\n",
      "100006    6893933\n",
      "100008    6832604\n",
      "100009    6915282\n",
      "10001     7127565\n",
      "100010    6827899\n",
      "100011    6934855\n",
      "100012    6861826\n",
      "100015    6871643\n",
      "100017    6842542\n",
      "100018    6934145\n",
      "100019    6829365\n",
      "10002     7167858\n",
      "100021    6859483\n",
      "100022    6861377\n",
      "100023    6848960\n",
      "100024    6918850\n",
      "100025    6916867\n",
      "100028    6895840\n",
      "100029    6813539\n",
      "10003     7116900\n",
      "100031    6890328\n",
      "           ...   \n",
      "99957     6855560\n",
      "99958     6816731\n",
      "99959     6925764\n",
      "9996      7139280\n",
      "99962     6913068\n",
      "99963     6828445\n",
      "99967     6867865\n",
      "99968     6820397\n",
      "99969     6852197\n",
      "9997      7122934\n",
      "99970     6907838\n",
      "99971     6865896\n",
      "99972     6840250\n",
      "99973     6926011\n",
      "99974     6893100\n",
      "99975     6867538\n",
      "99976     6884360\n",
      "99977     6903964\n",
      "99978     6907851\n",
      "9998      7211166\n",
      "99981     6844290\n",
      "99983     6947597\n",
      "99985     6895423\n",
      "99989     6812077\n",
      "99990     6903956\n",
      "99995     6881005\n",
      "99996     6835379\n",
      "99997     6882352\n",
      "99998     6884758\n",
      "99999     6924212\n",
      "Name: listing_id, dtype: int64\n"
     ]
    }
   ],
   "source": [
    "df_test = pd.read_json('data/test.json', encoding = 'utf-8', dtype = {'description': str})"
   ]
  },
  {
   "cell_type": "code",
   "execution_count": 45,
   "metadata": {
    "collapsed": false
   },
   "outputs": [],
   "source": [
    "df_test['features'] = df_test['features'].apply(len)\n",
    "df_test['description'] = df_test['description'].apply(len)\n",
    "test = df_test[['features', 'description', 'price', 'bedrooms', 'bathrooms','latitude', 'longitude']]\n",
    "est = est.fit(df, df_target)\n",
    "test_results = est.predict_proba(test)"
   ]
  },
  {
   "cell_type": "code",
   "execution_count": 57,
   "metadata": {
    "collapsed": false
   },
   "outputs": [],
   "source": [
    "test_results = pd.DataFrame(test_results, columns = ['low', 'medium', 'high'])\n",
    "test_results['listing_id'] = df_test['listing_id'].tolist()\n",
    "test_results = test_results[['listing_id', 'low','medium','high']]\n",
    "test_results.to_csv('submission.csv', index= False)"
   ]
  },
  {
   "cell_type": "code",
   "execution_count": null,
   "metadata": {
    "collapsed": true
   },
   "outputs": [],
   "source": []
  }
 ],
 "metadata": {
  "kernelspec": {
   "display_name": "Python 2",
   "language": "python",
   "name": "python2"
  },
  "language_info": {
   "codemirror_mode": {
    "name": "ipython",
    "version": 2
   },
   "file_extension": ".py",
   "mimetype": "text/x-python",
   "name": "python",
   "nbconvert_exporter": "python",
   "pygments_lexer": "ipython2",
   "version": "2.7.9"
  }
 },
 "nbformat": 4,
 "nbformat_minor": 1
}
